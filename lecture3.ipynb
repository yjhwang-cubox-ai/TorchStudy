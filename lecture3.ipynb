{
 "cells": [
  {
   "cell_type": "code",
   "id": "initial_id",
   "metadata": {
    "collapsed": true,
    "ExecuteTime": {
     "end_time": "2024-08-07T02:38:06.850063Z",
     "start_time": "2024-08-07T02:38:01.438865Z"
    }
   },
   "source": [
    "import torch\n",
    "from sympy.abc import y\n",
    "from torchvision import datasets, transforms\n",
    "import matplotlib.pyplot as plt\n",
    "from torch import nn"
   ],
   "outputs": [],
   "execution_count": 1
  },
  {
   "metadata": {
    "ExecuteTime": {
     "end_time": "2024-08-07T02:38:06.905915Z",
     "start_time": "2024-08-07T02:38:06.851465Z"
    }
   },
   "cell_type": "code",
   "source": [
    "DEVICE = \"cuda\" if torch.cuda.is_available() else \"cpu\"\n",
    "DEVICE"
   ],
   "id": "ae89d3e8e86f5aa7",
   "outputs": [
    {
     "data": {
      "text/plain": [
       "'cuda'"
      ]
     },
     "execution_count": 2,
     "metadata": {},
     "output_type": "execute_result"
    }
   ],
   "execution_count": 2
  },
  {
   "metadata": {
    "ExecuteTime": {
     "end_time": "2024-08-07T02:38:07.024338Z",
     "start_time": "2024-08-07T02:38:06.907026Z"
    }
   },
   "cell_type": "code",
   "source": [
    "transform = transforms.ToTensor()\n",
    "train_DS = datasets.MNIST(root=\"./data\", train=True, transform=transform, download=True)\n",
    "test_DS = datasets.MNIST(root=\"./data\", train=False, transform=transform, download=True)"
   ],
   "id": "74c8889d22a60a50",
   "outputs": [],
   "execution_count": 3
  },
  {
   "metadata": {
    "ExecuteTime": {
     "end_time": "2024-08-07T02:38:07.028701Z",
     "start_time": "2024-08-07T02:38:07.026187Z"
    }
   },
   "cell_type": "code",
   "source": [
    "BATCH_SIZE = 32\n",
    "train_DL = torch.utils.data.DataLoader(dataset=train_DS, batch_size=BATCH_SIZE, shuffle=True)\n",
    "Test_DL = torch.utils.data.DataLoader(dataset=train_DS, batch_size=BATCH_SIZE, shuffle=True)"
   ],
   "id": "6fba65d3f184f03f",
   "outputs": [],
   "execution_count": 4
  },
  {
   "metadata": {
    "ExecuteTime": {
     "end_time": "2024-08-07T02:38:07.032563Z",
     "start_time": "2024-08-07T02:38:07.029557Z"
    }
   },
   "cell_type": "code",
   "source": "len(train_DL.dataset)",
   "id": "f0ad1ec49a240824",
   "outputs": [
    {
     "data": {
      "text/plain": [
       "60000"
      ]
     },
     "execution_count": 5,
     "metadata": {},
     "output_type": "execute_result"
    }
   ],
   "execution_count": 5
  },
  {
   "metadata": {
    "ExecuteTime": {
     "end_time": "2024-08-07T02:38:07.235868Z",
     "start_time": "2024-08-07T02:38:07.033331Z"
    }
   },
   "cell_type": "code",
   "source": [
    "x_batch, y_batch = next(iter(train_DL))\n",
    "plt.imshow(x_batch[0].squeeze(), cmap=\"gray\")\n",
    "plt.colorbar()\n",
    "\n",
    "# to_Tensor 에서 normalize 된다."
   ],
   "id": "f92adec885e34e2a",
   "outputs": [
    {
     "data": {
      "text/plain": [
       "<matplotlib.colorbar.Colorbar at 0x7f6acf4d1d90>"
      ]
     },
     "execution_count": 6,
     "metadata": {},
     "output_type": "execute_result"
    },
    {
     "data": {
      "text/plain": [
       "<Figure size 640x480 with 2 Axes>"
      ],
      "image/png": "[encoded data removed]"
     },
     "metadata": {},
     "output_type": "display_data"
    }
   ],
   "execution_count": 6
  },
  {
   "metadata": {
    "ExecuteTime": {
     "end_time": "2024-08-07T02:38:07.240407Z",
     "start_time": "2024-08-07T02:38:07.237086Z"
    }
   },
   "cell_type": "code",
   "source": "x_batch.shape",
   "id": "67e2aed8bb381c30",
   "outputs": [
    {
     "data": {
      "text/plain": [
       "torch.Size([32, 1, 28, 28])"
      ]
     },
     "execution_count": 7,
     "metadata": {},
     "output_type": "execute_result"
    }
   ],
   "execution_count": 7
  },
  {
   "metadata": {
    "ExecuteTime": {
     "end_time": "2024-08-07T02:38:07.243805Z",
     "start_time": "2024-08-07T02:38:07.241189Z"
    }
   },
   "cell_type": "code",
   "source": [
    "from torch import nn\n",
    "\n",
    "class MLP(nn.Module):\n",
    "    def __init__(self):\n",
    "        super().__init__()\n",
    "        \n",
    "        self.linear = nn.Sequential(nn.Linear(28*28, 100), \n",
    "                                    nn.ReLU(), \n",
    "                                    nn.Linear(100, 10))\n",
    "    def forward(self, x):\n",
    "        x = torch.flatten(x, start_dim=1)\n",
    "        x = self.linear(x)\n",
    "        return x"
   ],
   "id": "39880294131c0f1b",
   "outputs": [],
   "execution_count": 8
  },
  {
   "metadata": {},
   "cell_type": "markdown",
   "source": "",
   "id": "42554b483df4e2d"
  },
  {
   "metadata": {
    "ExecuteTime": {
     "end_time": "2024-08-07T02:38:07.504926Z",
     "start_time": "2024-08-07T02:38:07.244620Z"
    }
   },
   "cell_type": "code",
   "source": [
    "model = MLP().to(DEVICE)\n",
    "print(model)\n",
    "train_DL = train_DL\n",
    "x_batch, _ = next(iter(train_DL))\n",
    "print(x_batch.shape)\n",
    "# print(x_batch.squeeze())\n",
    "print(model(torch.flatten(x_batch.to(DEVICE), start_dim=1)).shape)"
   ],
   "id": "b7e3191aca552bdc",
   "outputs": [
    {
     "name": "stdout",
     "output_type": "stream",
     "text": [
      "MLP(\n",
      "  (linear): Sequential(\n",
      "    (0): Linear(in_features=784, out_features=100, bias=True)\n",
      "    (1): ReLU()\n",
      "    (2): Linear(in_features=100, out_features=10, bias=True)\n",
      "  )\n",
      ")\n",
      "torch.Size([32, 1, 28, 28])\n",
      "torch.Size([32, 10])\n"
     ]
    }
   ],
   "execution_count": 9
  },
  {
   "metadata": {
    "ExecuteTime": {
     "end_time": "2024-08-07T02:38:07.511264Z",
     "start_time": "2024-08-07T02:38:07.506776Z"
    }
   },
   "cell_type": "code",
   "source": [
    "LR = 1e-3\n",
    "EPOCHS = 5\n",
    "criterion = nn.CrossEntropyLoss()\n",
    "optimizer = torch.optim.Adam(model.parameters(), lr=LR)\n",
    "\n",
    "def Train(model, train_DL, criterion, optimizer, EPOCHS):\n",
    "    loss_history = []\n",
    "    NoT = len(train_DL.dataset)\n",
    "    \n",
    "    model.train()\n",
    "    for ep in range(EPOCHS):\n",
    "        r_loss = 0\n",
    "        for x_batch, y_batch in train_DL:\n",
    "            x_batch = x_batch.to(DEVICE)\n",
    "            y_batch = y_batch.to(DEVICE)\n",
    "            y_hat = model(torch.flatten(x_batch, start_dim=1))\n",
    "            # y_hat = model(x_batch)\n",
    "            # loss\n",
    "            loss = criterion(y_hat, y_batch)\n",
    "            # update\n",
    "            optimizer.zero_grad()\n",
    "            loss.backward()\n",
    "            optimizer.step()\n",
    "            # loss accumulatation\n",
    "            loss_b = loss.item() * x_batch.shape[0]\n",
    "            r_loss += loss_b\n",
    "        # print loss\n",
    "        loss_e = r_loss / NoT\n",
    "        loss_history.append(loss_e)\n",
    "        print(f\"Epoch {ep+1}/{EPOCHS}, Loss: {round(loss_e,3)}\")\n",
    "        print(\"-\"*20)\n",
    "        \n",
    "    return loss_history"
   ],
   "id": "eef4535219069215",
   "outputs": [],
   "execution_count": 10
  },
  {
   "metadata": {},
   "cell_type": "markdown",
   "source": "### Cross Entropy 확인 (왜 모델에 softmax 를 안 붙였을까?)",
   "id": "5af784f9f4a453df"
  },
  {
   "metadata": {},
   "cell_type": "code",
   "source": [
    "import torch.nn.functional as F\n",
    "\n",
    "y_hat = torch.randn(3,5)\n",
    "print(y_hat)\n",
    "y_batch = torch.randint(5, (3,))\n",
    "print(y_batch)"
   ],
   "id": "4e3e1887f65642de",
   "outputs": [],
   "execution_count": null
  },
  {
   "metadata": {},
   "cell_type": "code",
   "source": [
    "# 방법1\n",
    "loss = F.cross_entropy(y_hat, y_batch)\n",
    "print(loss)\n",
    "\n",
    "# 방법2\n",
    "criterion = nn.CrossEntropyLoss()\n",
    "print(criterion(y_hat, y_batch))\n",
    "\n",
    "# 방법3\n",
    "y_hat_soft = F.softmax(y_hat, dim=1)\n",
    "print(y_hat_soft)\n",
    "loss = 0 \n",
    "for i, val in enumerate(y_hat_soft):\n",
    "    print(i, val)\n",
    "    loss += -torch.log(val[y_batch[i]])\n",
    "print(loss/3)"
   ],
   "id": "ac305cfa720da8e2",
   "outputs": [],
   "execution_count": null
  },
  {
   "metadata": {
    "ExecuteTime": {
     "end_time": "2024-08-07T02:38:41.196853Z",
     "start_time": "2024-08-07T02:38:09.707628Z"
    }
   },
   "cell_type": "code",
   "source": [
    "# model = MLP().to(DEVICE)\n",
    "loss_history = Train(model, train_DL, criterion, optimizer, EPOCHS)\n",
    "\n",
    "plt.plot(range(1, EPOCHS+1), loss_history)\n",
    "plt.xlabel('Epochs')\n",
    "plt.ylabel('Loss')\n",
    "plt.title(\"Train Loss\")\n",
    "plt.grid()"
   ],
   "id": "dffcaf87e00dc66",
   "outputs": [
    {
     "name": "stdout",
     "output_type": "stream",
     "text": [
      "Epoch 1/5, Loss: 0.31\n",
      "--------------------\n",
      "Epoch 2/5, Loss: 0.137\n",
      "--------------------\n",
      "Epoch 3/5, Loss: 0.094\n",
      "--------------------\n",
      "Epoch 4/5, Loss: 0.071\n",
      "--------------------\n",
      "Epoch 5/5, Loss: 0.057\n",
      "--------------------\n"
     ]
    },
    {
     "data": {
      "text/plain": [
       "<Figure size 640x480 with 1 Axes>"
      ],
      "image/png": "[encoded data removed]"
     },
     "metadata": {},
     "output_type": "display_data"
    }
   ],
   "execution_count": 11
  },
  {
   "metadata": {
    "ExecuteTime": {
     "end_time": "2024-08-07T02:38:41.352031Z",
     "start_time": "2024-08-07T02:38:41.198612Z"
    }
   },
   "cell_type": "code",
   "source": [
    "save_model_path = \"./MNP_MNIST.pth\"\n",
    "torch.save(model.state_dict(), save_model_path)\n",
    "model.state_dict()"
   ],
   "id": "361316a0b97b40af",
   "outputs": [
    {
     "data": {
      "text/plain": [
       "OrderedDict([('linear.0.weight',\n",
       "              tensor([[-0.0353,  0.0285,  0.0161,  ..., -0.0265,  0.0076,  0.0159],\n",
       "                      [ 0.0104,  0.0275, -0.0259,  ...,  0.0052, -0.0240, -0.0095],\n",
       "                      [-0.0029,  0.0168,  0.0095,  ..., -0.0002,  0.0088,  0.0153],\n",
       "                      ...,\n",
       "                      [-0.0004, -0.0038, -0.0030,  ..., -0.0164, -0.0240,  0.0010],\n",
       "                      [ 0.0018,  0.0197,  0.0202,  ..., -0.0141, -0.0166, -0.0082],\n",
       "                      [ 0.0348, -0.0109, -0.0224,  ...,  0.0256, -0.0030,  0.0227]],\n",
       "                     device='cuda:0')),\n",
       "             ('linear.0.bias',\n",
       "              tensor([ 0.1188,  0.0858,  0.1541, -0.0153, -0.0999,  0.1222,  0.1134, -0.0338,\n",
       "                       0.0119, -0.0204,  0.0383,  0.0177,  0.1025,  0.1097, -0.0968,  0.0646,\n",
       "                       0.1225,  0.0410, -0.0866,  0.1023,  0.1816, -0.1506,  0.1300, -0.1645,\n",
       "                       0.1883,  0.0394,  0.0158, -0.0480,  0.2663, -0.0842,  0.2377, -0.0514,\n",
       "                      -0.0773,  0.0263, -0.0997, -0.0756,  0.0881,  0.1786,  0.0159,  0.1419,\n",
       "                      -0.0161,  0.0494,  0.1814, -0.0137,  0.0971, -0.1073,  0.0131, -0.0624,\n",
       "                      -0.1207, -0.0720, -0.0462,  0.1140,  0.1153,  0.0955,  0.2739, -0.0628,\n",
       "                       0.3916,  0.1025,  0.1385,  0.0838, -0.0537, -0.0886,  0.1775, -0.1464,\n",
       "                       0.0047, -0.1406, -0.0100,  0.0160,  0.1519, -0.0637, -0.0947, -0.0376,\n",
       "                       0.0021, -0.1139, -0.1163,  0.0396,  0.0398,  0.0577,  0.1148,  0.0691,\n",
       "                       0.0762, -0.0132,  0.0680, -0.0391,  0.0366, -0.0731, -0.0376, -0.0258,\n",
       "                      -0.0319,  0.2074,  0.1413,  0.0258,  0.0108,  0.1987, -0.0723,  0.0913,\n",
       "                      -0.0414,  0.0050, -0.1371,  0.1998], device='cuda:0')),\n",
       "             ('linear.2.weight',\n",
       "              tensor([[-2.6907e-01,  6.0317e-02, -2.5435e-01, -1.2233e-01,  8.7031e-02,\n",
       "                        7.5904e-02, -4.1288e-01, -4.8937e-02, -2.3007e-01, -1.1083e-01,\n",
       "                        1.1924e-01, -1.1289e-01,  7.6006e-02, -2.6837e-01,  1.4121e-01,\n",
       "                       -8.4752e-02,  6.5276e-03, -8.6038e-01, -3.7311e-01,  2.7280e-02,\n",
       "                       -1.9006e-02,  1.5859e-01, -2.4539e-01,  1.6169e-01,  1.2504e-01,\n",
       "                        5.3403e-02, -9.8870e-02, -2.1381e-01,  2.2341e-01,  1.5361e-01,\n",
       "                        2.2407e-01,  1.1008e-01, -2.6036e-01,  6.0238e-02,  1.6003e-01,\n",
       "                        4.1503e-02, -3.6308e-01, -2.2117e-02,  8.8710e-02, -2.0453e-01,\n",
       "                        2.0676e-01, -1.4597e-01, -3.9807e-01,  1.4849e-01, -1.6176e-01,\n",
       "                        1.9421e-01,  8.7506e-02,  8.1597e-02,  7.8746e-02, -4.4019e-01,\n",
       "                        2.3806e-01, -5.8314e-02,  2.1376e-02, -1.4227e-01, -1.1844e-01,\n",
       "                        2.7028e-01, -1.3357e-01,  1.4770e-01, -5.9858e-01, -4.3515e-01,\n",
       "                       -5.7998e-02, -5.3192e-01,  9.4995e-02,  1.0981e-01,  2.8874e-01,\n",
       "                       -5.5799e-01,  3.0788e-01,  9.0463e-02,  6.6929e-04, -6.9375e-01,\n",
       "                        2.4433e-01,  8.6687e-02, -1.1972e-01,  1.3807e-01,  9.3451e-03,\n",
       "                        1.1621e-01,  1.6851e-01,  1.0763e-01, -3.1801e-01,  1.4758e-01,\n",
       "                       -4.3791e-01,  1.0468e-01,  2.3896e-01,  2.1007e-02, -2.1875e-01,\n",
       "                        1.3224e-01, -7.1956e-02,  3.9871e-02, -3.1926e-01, -3.0816e-01,\n",
       "                       -4.6929e-01, -2.3051e-01, -1.4635e-02, -4.4788e-01, -1.4582e-01,\n",
       "                       -4.1339e-01,  1.2909e-01,  6.5756e-02,  1.9644e-02, -1.3759e-01],\n",
       "                      [ 1.6343e-01, -3.3413e-01,  2.8410e-01, -4.2674e-01,  1.5336e-01,\n",
       "                       -5.5128e-01,  1.2891e-01, -3.9505e-02,  1.2527e-01, -9.1493e-02,\n",
       "                        3.3339e-02,  5.8668e-01,  4.4314e-02,  1.8586e-01, -3.4555e-01,\n",
       "                        9.4887e-03,  2.1000e-01,  4.2019e-01,  1.8706e-01,  5.3843e-02,\n",
       "                        9.1770e-02, -4.7619e-01,  2.8419e-02, -3.8039e-01, -4.2771e-02,\n",
       "                        1.4757e-01, -5.2027e-01, -5.7745e-02,  3.1486e-01, -3.8904e-01,\n",
       "                        6.2686e-03, -1.4460e-01,  7.8405e-02, -3.4289e-01, -3.1183e-01,\n",
       "                       -1.7748e-01, -1.5500e-01,  6.7304e-02,  3.9162e-01,  1.0231e-01,\n",
       "                       -4.2157e-01, -2.1566e-01,  1.8378e-01, -2.7857e-01, -2.9523e-01,\n",
       "                       -2.7635e-01, -2.4712e-01,  2.7482e-01, -2.9417e-01,  1.5207e-01,\n",
       "                       -5.6617e-01,  1.9946e-01,  1.9537e-01, -1.5506e-02,  2.4588e-01,\n",
       "                       -3.2230e-01, -2.4721e-01,  2.0021e-01,  8.5706e-02, -2.1362e-01,\n",
       "                        9.2639e-02, -7.4241e-02, -5.4992e-02, -1.5386e-01,  5.6714e-02,\n",
       "                        9.5407e-02, -2.2166e-02, -5.8670e-02, -9.8972e-02,  1.4922e-01,\n",
       "                        3.2095e-01, -2.6467e-01,  3.9367e-01, -1.2496e-01,  1.0879e-01,\n",
       "                       -3.7355e-01, -5.0452e-01, -5.8521e-02, -3.6935e-01, -3.2716e-02,\n",
       "                       -7.5316e-01, -2.3877e-01, -1.4915e-02,  4.4672e-01, -9.2738e-02,\n",
       "                       -2.6539e-01,  7.1646e-02, -4.4968e-02,  1.1363e-01,  8.3455e-02,\n",
       "                        1.8030e-01, -3.4150e-01,  3.0905e-01,  3.7750e-01,  2.4210e-01,\n",
       "                       -3.1772e-01,  1.3917e-01,  2.2095e-01, -1.1221e-01, -6.7400e-02],\n",
       "                      [-3.8044e-02,  5.6140e-03, -1.5745e-01,  4.0120e-01,  1.3027e-01,\n",
       "                       -1.3292e-01, -1.6284e-01,  4.5229e-02,  1.5031e-01, -2.1051e-01,\n",
       "                        1.7111e-01, -2.1625e-01,  1.3966e-01,  7.9308e-02,  2.1757e-01,\n",
       "                       -3.5142e-01,  6.4215e-02, -6.8784e-01,  1.8808e-01, -1.5720e-02,\n",
       "                        2.7862e-01, -6.3030e-01,  4.2983e-02,  1.7560e-01, -8.5673e-01,\n",
       "                        3.5192e-01,  8.4654e-02,  1.0289e-01, -1.1170e-01, -2.1063e-01,\n",
       "                       -7.5437e-02, -1.4612e-01,  1.3267e-01, -4.4990e-01, -1.4203e-01,\n",
       "                        8.3656e-02, -1.0773e-01, -1.0778e-01, -7.3248e-02, -1.0913e-01,\n",
       "                        5.6005e-02, -1.4432e-01,  8.9190e-02, -1.4796e-01,  3.0868e-01,\n",
       "                        2.1065e-01, -3.5377e-03,  1.7690e-01, -1.6145e-01,  8.5588e-03,\n",
       "                        4.9488e-02,  1.8268e-01, -5.4306e-02,  1.7497e-01, -4.0719e-01,\n",
       "                       -1.0724e-01, -3.7401e-02,  3.1787e-01,  2.6965e-01, -2.7653e-01,\n",
       "                        1.1772e-01, -9.4738e-02,  1.8605e-01,  1.0566e-01,  1.2509e-01,\n",
       "                        1.7998e-01,  3.3452e-01, -4.6763e-01,  3.0271e-01, -3.2449e-01,\n",
       "                       -3.2349e-01, -1.8304e-01, -4.7183e-01, -7.0054e-02, -1.8942e-01,\n",
       "                       -8.8057e-02,  7.9109e-02,  1.3772e-01, -4.6086e-01,  2.8632e-01,\n",
       "                        1.0098e-01,  1.3707e-01,  1.2173e-01, -2.7187e-01, -3.2776e-01,\n",
       "                       -1.6598e-01,  3.1974e-02,  5.7689e-02, -8.2984e-02,  1.6389e-01,\n",
       "                       -2.9626e-02,  3.6178e-01,  7.5904e-02, -1.0022e-01,  2.1504e-01,\n",
       "                       -2.1500e-01, -8.6483e-02,  1.8364e-01,  8.6205e-02,  3.9697e-02],\n",
       "                      [ 9.4255e-02,  1.3116e-02, -4.8068e-01, -1.0776e-01, -4.9289e-02,\n",
       "                       -4.1346e-01, -6.5111e-01, -5.9878e-02,  1.7467e-01,  1.2494e-01,\n",
       "                        1.0399e-01,  8.7569e-02, -4.3441e-02, -3.6757e-02,  8.4115e-02,\n",
       "                       -3.2493e-01, -3.3306e-02,  4.3148e-01,  1.1310e-01,  2.7210e-01,\n",
       "                       -5.0271e-01, -3.5729e-01, -2.1934e-01,  2.7416e-01, -1.7336e-01,\n",
       "                       -3.5883e-01,  8.0858e-02,  1.0319e-01, -2.6903e-01,  2.4283e-01,\n",
       "                       -1.3044e-01,  1.1288e-01,  1.0731e-01, -6.4166e-02,  1.3487e-01,\n",
       "                        4.4312e-02,  1.8922e-02,  2.7738e-01, -4.0162e-01,  8.7189e-02,\n",
       "                        3.7735e-01,  2.0442e-01,  3.2699e-02,  2.0942e-01, -1.6604e-01,\n",
       "                       -1.9227e-01, -7.4520e-02,  1.8697e-01,  1.5375e-01,  2.8986e-01,\n",
       "                        8.7071e-02, -2.3827e-01, -5.5639e-01, -2.0887e-01, -5.3508e-01,\n",
       "                       -5.7714e-03, -3.2690e-01, -3.8212e-01,  6.1634e-02,  1.8765e-01,\n",
       "                        2.2414e-01,  1.4972e-01, -6.0045e-01,  1.0019e-01,  3.9806e-02,\n",
       "                        2.1386e-01,  7.5168e-02,  9.5979e-02,  8.7884e-02,  2.6783e-01,\n",
       "                       -1.6825e-01, -3.7721e-03, -2.7236e-01, -2.8382e-02,  1.0908e-01,\n",
       "                        2.9595e-02, -2.6301e-01,  2.4145e-03,  1.7647e-01, -6.1560e-03,\n",
       "                       -1.0928e-01, -1.1432e-02, -2.2479e-01,  2.3870e-01, -9.3097e-02,\n",
       "                        2.0018e-02, -2.5930e-02,  6.1725e-02, -2.8920e-02, -7.2201e-02,\n",
       "                       -3.1133e-01, -1.8340e-02, -4.1800e-01,  2.4320e-01,  1.0796e-01,\n",
       "                       -4.9408e-02,  7.9286e-02, -1.2241e-01,  1.5626e-01, -1.1932e-03],\n",
       "                      [-1.6886e-01,  1.0755e-01,  5.5533e-01, -1.5058e-01, -5.9650e-01,\n",
       "                        1.9697e-01,  4.0465e-01, -1.0075e-01,  8.0473e-02,  1.2099e-01,\n",
       "                       -6.8503e-01,  3.4345e-01, -1.1156e+00,  3.0207e-01, -1.0090e+00,\n",
       "                        1.7012e-01, -5.0446e-01,  7.2268e-02, -3.7369e-02, -9.8130e-02,\n",
       "                        1.1441e-01,  2.8980e-01, -2.5933e-01, -4.8974e-01,  6.9162e-02,\n",
       "                        8.1360e-02,  1.2563e-01, -1.0057e-01, -2.1297e-01,  1.4925e-01,\n",
       "                       -5.5998e-01, -5.5494e-01,  1.0722e-02, -2.6371e-01, -3.0490e-01,\n",
       "                        9.0281e-02,  4.6392e-02, -3.0559e-01,  1.9247e-01,  5.1004e-02,\n",
       "                       -6.6367e-01,  8.3249e-02,  1.2538e-01, -1.0258e-03, -4.4088e-02,\n",
       "                       -3.5738e-02,  2.8131e-02, -3.4601e-01, -1.4718e-01,  2.9172e-01,\n",
       "                       -5.4197e-02, -3.7019e-01, -3.4123e-02, -3.3117e-02,  2.0623e-01,\n",
       "                       -4.1117e-01,  4.9672e-02,  1.7788e-01, -2.4141e-01,  1.4528e-01,\n",
       "                       -2.0330e-01, -4.2351e-02,  1.0426e-01, -9.8165e-02, -2.5122e-01,\n",
       "                       -3.9249e-01, -1.2760e-01,  1.0590e-01,  9.3856e-02,  2.7516e-02,\n",
       "                        8.9403e-02,  1.3828e-01, -7.4404e-01, -5.3107e-02, -2.5005e-01,\n",
       "                       -1.7106e-02,  1.7577e-01,  1.4924e-01, -7.6521e-01,  3.2324e-01,\n",
       "                       -6.7269e-02, -1.8862e-01, -3.7717e-02,  1.3618e-01,  1.1968e-01,\n",
       "                        1.2729e-01, -8.1010e-02,  9.2084e-02, -3.4968e-02,  3.3107e-02,\n",
       "                        1.3978e-01, -3.1469e-01, -5.7105e-02,  1.0635e-01, -1.6508e-02,\n",
       "                        1.1616e-01, -3.5530e-01, -2.0672e-02, -5.0625e-01,  4.3209e-02],\n",
       "                      [ 1.1083e-01,  6.9737e-02, -1.3349e-01, -1.0119e-01, -1.9037e-01,\n",
       "                        1.0873e-01, -4.8153e-02,  6.6011e-02, -7.9129e-01, -1.1977e-01,\n",
       "                        1.3409e-01, -3.8171e-01,  2.7445e-01, -4.4483e-01, -1.3335e-01,\n",
       "                        9.2512e-02,  2.6580e-01,  3.6307e-01, -1.9980e-01,  8.8430e-02,\n",
       "                       -7.1575e-02,  8.8933e-02, -2.0247e-02, -6.1581e-01,  2.3134e-01,\n",
       "                       -1.1915e-01,  4.7568e-02, -5.3315e-02,  2.9911e-01, -2.0688e-01,\n",
       "                        2.3586e-01,  8.1433e-03, -1.8348e-01,  1.6796e-01,  1.2576e-01,\n",
       "                       -1.6884e-01, -3.7070e-02,  5.8094e-02, -1.1636e-01,  2.7517e-02,\n",
       "                       -1.3770e-01,  2.1695e-01, -7.4810e-03,  7.1631e-02,  9.4824e-02,\n",
       "                       -2.2755e-01,  7.5449e-02, -1.3127e-01, -1.6366e-01, -5.3700e-01,\n",
       "                       -6.7325e-02,  3.3551e-01, -2.0970e-02, -6.0038e-02,  3.3283e-01,\n",
       "                       -8.0145e-02,  5.7193e-01, -8.4771e-01,  1.3733e-01,  1.8256e-01,\n",
       "                       -4.8707e-02,  1.5005e-01, -2.2751e-01,  4.0697e-02, -5.3150e-01,\n",
       "                        2.4105e-01,  1.4044e-02, -2.8135e-01,  1.1663e-01,  1.9311e-01,\n",
       "                       -4.6616e-01, -8.6706e-02,  6.1799e-01, -1.0079e-01, -9.8086e-02,\n",
       "                        9.2962e-02, -4.0836e-02, -1.1387e-01,  4.5598e-01, -2.4811e-01,\n",
       "                        1.4729e-01,  7.9207e-02, -5.0327e-02, -4.5831e-01, -1.9128e-01,\n",
       "                       -1.5683e-01,  1.4607e-02, -8.4146e-02, -2.1793e-01,  1.2247e-01,\n",
       "                        2.8975e-02,  3.6124e-02, -2.7934e-01,  2.9348e-01, -5.5547e-01,\n",
       "                        1.9394e-01, -6.2015e-03, -1.6140e-01,  1.0541e-01,  2.4426e-02],\n",
       "                      [-1.2477e-01,  1.3215e-01, -1.1596e-01, -2.4529e-01, -2.1565e-01,\n",
       "                        2.2965e-01, -1.0689e-01,  3.7843e-02,  2.4841e-01, -5.5589e-01,\n",
       "                       -5.3531e-01,  1.3139e-01,  8.2527e-02, -3.5283e-01, -1.8316e-01,\n",
       "                       -7.2570e-02,  4.1360e-02, -9.7517e-01, -1.8226e-01,  3.0236e-01,\n",
       "                        1.5296e-01,  1.2611e-01,  3.4817e-01,  3.6100e-01,  2.3584e-01,\n",
       "                       -2.3762e-01, -1.4529e-01,  4.2118e-02,  2.4464e-02,  5.7326e-03,\n",
       "                       -1.5220e-01, -1.4988e-02, -3.4497e-01,  1.7062e-01,  1.2713e-01,\n",
       "                        1.2558e-01, -2.2906e-01, -5.8188e-02, -4.2691e-01,  1.5870e-01,\n",
       "                       -5.9205e-01,  7.2736e-02,  9.2364e-02, -2.7026e-01,  1.3926e-01,\n",
       "                       -2.4192e-02,  3.9365e-02, -3.5026e-01, -1.4811e-01, -5.3641e-01,\n",
       "                       -9.2663e-02,  1.7783e-01,  2.6106e-01,  1.4748e-01, -1.0937e-01,\n",
       "                       -2.4728e-01, -4.7332e-01, -1.9554e-01, -5.4550e-01,  1.9239e-02,\n",
       "                        1.2926e-01, -4.8566e-01, -1.1580e-01,  1.2590e-01,  2.3849e-01,\n",
       "                       -3.0729e-01, -3.3113e-01, -1.6695e-01,  1.0452e-01, -3.6333e-01,\n",
       "                        3.2579e-01, -3.6492e-01,  3.2220e-01, -2.9955e-01, -3.3197e-01,\n",
       "                       -1.8708e-01,  2.1758e-01, -5.6123e-02,  3.3515e-01,  6.6010e-02,\n",
       "                        9.8972e-02, -8.7494e-03,  7.7324e-02,  2.1293e-01,  2.9055e-01,\n",
       "                        9.7450e-02, -9.2558e-02, -1.0407e-02, -2.2165e-01, -1.2999e-01,\n",
       "                        1.3700e-01,  2.1311e-01,  2.2897e-01, -5.7352e-01, -5.1353e-01,\n",
       "                       -6.1319e-01,  1.4505e-01,  3.5598e-02, -4.1773e-01, -8.8678e-02],\n",
       "                      [-1.2755e-01, -1.3824e-01,  2.9488e-02,  1.5889e-01, -1.6775e-01,\n",
       "                       -1.2148e-02,  4.3215e-01,  5.0262e-03,  1.1793e-01,  1.0172e-01,\n",
       "                        1.4806e-01,  2.2535e-01, -1.2564e-01,  1.4760e-01,  2.6608e-01,\n",
       "                        2.1092e-01, -1.5050e-01, -2.1368e-01,  2.8451e-01, -1.6008e-01,\n",
       "                       -2.0001e-01, -2.4689e-02,  3.3639e-01,  5.3227e-02, -1.0366e-01,\n",
       "                        2.6206e-01, -1.7346e-01, -1.3718e-01,  5.4970e-01, -2.2959e-01,\n",
       "                        1.1802e-01, -7.0248e-02, -1.3477e-01,  5.5931e-02, -3.7676e-01,\n",
       "                        4.7904e-02,  1.1898e-01,  4.1736e-01,  2.0351e-01, -2.1030e-01,\n",
       "                        8.3382e-02, -5.8982e-01, -4.1071e-01,  2.6168e-01,  1.7978e-01,\n",
       "                       -2.2011e-01, -2.8949e-01,  3.1460e-01,  1.2883e-01,  1.0044e-01,\n",
       "                        2.6332e-02,  1.6960e-01, -2.4484e-01, -3.1004e-01,  1.0708e-01,\n",
       "                       -1.2114e-01,  2.0419e-01,  1.0167e-01,  1.4405e-01, -3.9020e-01,\n",
       "                       -3.0281e-01, -5.2419e-01,  2.4359e-01, -1.8310e-01,  9.5739e-02,\n",
       "                        4.2650e-01, -2.3049e-01,  3.8448e-02, -4.2754e-02, -1.0636e-01,\n",
       "                        2.8298e-01, -5.7586e-02, -2.3665e-02,  5.1055e-02,  1.3613e-01,\n",
       "                        7.7691e-02, -4.3326e-01, -2.5643e-01, -2.3064e-01, -3.3741e-01,\n",
       "                       -8.9158e-03,  3.6297e-02, -2.7735e-02, -2.6376e-02,  1.4910e-01,\n",
       "                        5.4568e-02,  5.0978e-02, -3.5747e-02,  1.4634e-01, -1.2424e-01,\n",
       "                       -5.5063e-02,  2.7510e-01,  2.5621e-02, -1.6760e-02, -6.2243e-02,\n",
       "                       -7.8176e-03, -2.6649e-01, -5.4818e-01, -4.7271e-01, -2.8640e-01],\n",
       "                      [ 1.2006e-01,  1.7382e-01,  8.8348e-03,  1.9160e-01,  4.6922e-02,\n",
       "                        2.0776e-01,  1.2097e-01,  4.3249e-02,  4.1955e-02,  1.4420e-01,\n",
       "                       -2.5504e-01, -2.8283e-01, -1.4600e-01, -4.3044e-01, -5.1033e-02,\n",
       "                       -4.1097e-01, -1.0288e-01, -8.3748e-01,  1.0454e-01, -9.5341e-02,\n",
       "                       -4.1434e-02, -2.8886e-02,  2.1091e-02,  1.1040e-01, -1.3774e-01,\n",
       "                       -4.7940e-01,  1.1407e-01,  7.9445e-02, -6.3074e-01, -2.6840e-01,\n",
       "                        3.9921e-02,  1.1933e-01,  1.6398e-01,  3.6716e-02,  1.6724e-01,\n",
       "                        4.5653e-02,  1.2011e-02, -2.9179e-01, -7.0407e-01,  1.1319e-01,\n",
       "                       -1.2761e-01,  1.1301e-02,  5.5437e-02, -2.7366e-01, -7.3781e-01,\n",
       "                        1.3170e-01,  9.7938e-02, -3.2001e-01,  1.1166e-01, -7.9090e-03,\n",
       "                       -1.1573e-01, -2.9446e-01,  7.0638e-02,  1.1604e-01,  1.1523e-01,\n",
       "                        1.7355e-01, -1.5079e-01, -2.4938e-02,  2.5240e-02,  2.0009e-01,\n",
       "                        9.7331e-02,  2.1136e-01, -1.9987e-01,  7.2403e-02, -2.4281e-01,\n",
       "                       -2.5333e-02, -6.6761e-01, -5.4056e-02, -2.6597e-01, -3.1952e-01,\n",
       "                       -5.5752e-01, -9.6680e-04, -2.1344e-01,  1.2090e-01,  6.9079e-02,\n",
       "                        1.1556e-01,  1.0538e-01,  9.5242e-02, -2.8666e-01, -2.1860e-01,\n",
       "                        1.5402e-01,  1.1057e-01, -1.7286e-01, -4.2892e-01, -2.8025e-01,\n",
       "                       -4.6338e-02,  6.0352e-02,  3.6299e-02,  1.2150e-01,  1.3388e-01,\n",
       "                       -2.7005e-02, -4.8271e-01,  1.0189e-01, -7.6412e-01,  4.8849e-02,\n",
       "                        2.4216e-01,  1.7493e-01, -4.4593e-01,  4.7716e-02,  1.7693e-01],\n",
       "                      [-1.1007e-01,  2.4788e-02, -4.1919e-01, -3.1889e-01,  4.2527e-02,\n",
       "                       -5.3807e-02, -4.0198e-01, -8.0989e-02,  4.5307e-02,  1.4150e-01,\n",
       "                       -1.7559e-01, -7.2783e-01, -3.6338e-01,  1.8134e-01, -2.4574e-02,\n",
       "                        2.1639e-01, -4.5542e-01,  3.4524e-01, -6.9018e-01, -6.3185e-01,\n",
       "                        1.7987e-01,  2.7249e-01, -6.9272e-01,  1.4735e-01,  2.2694e-01,\n",
       "                        2.2143e-01,  1.1192e-02, -5.3465e-02, -4.5255e-01,  1.3307e-01,\n",
       "                       -1.1969e-01, -9.4574e-02,  7.0093e-02,  1.7201e-01,  7.4470e-02,\n",
       "                       -6.0540e-02, -3.7797e-02, -3.5375e-01,  1.8585e-01, -4.6744e-02,\n",
       "                        1.9653e-01, -7.3717e-02, -1.1577e-01, -3.6832e-02,  5.6078e-02,\n",
       "                        6.7046e-02,  2.4643e-02, -3.3664e-01,  1.3300e-01, -1.1509e-01,\n",
       "                       -1.8779e-01, -4.7400e-01,  1.6567e-01, -3.9381e-02, -2.2209e-01,\n",
       "                        3.0526e-01,  9.8474e-02,  1.4857e-01,  3.6607e-02,  3.1309e-02,\n",
       "                        2.3752e-02,  1.5544e-01,  2.0474e-02,  1.4152e-02, -3.0487e-03,\n",
       "                       -9.3146e-01,  3.0086e-01,  1.3945e-01, -8.4738e-01,  1.7512e-01,\n",
       "                       -8.5221e-03,  7.5539e-02,  1.9292e-01,  1.1463e-01,  8.7536e-02,\n",
       "                        6.1587e-02, -6.5032e-02, -1.7272e-01, -3.3528e-01, -5.3602e-01,\n",
       "                        1.2201e-01, -1.0283e-02, -4.6589e-01,  9.5506e-02,  1.6782e-01,\n",
       "                        5.2500e-02,  8.8923e-02, -1.3840e-02, -6.2589e-02,  8.0121e-02,\n",
       "                       -1.7654e-02, -4.1299e-01, -6.0581e-01,  1.4807e-01,  2.0027e-01,\n",
       "                        9.3368e-02, -1.9892e-01,  7.8500e-02,  2.0759e-01, -1.6820e-01]],\n",
       "                     device='cuda:0')),\n",
       "             ('linear.2.bias',\n",
       "              tensor([-0.1323, -0.0433,  0.0602, -0.0890,  0.1133,  0.1606, -0.0772, -0.0757,\n",
       "                       0.0025, -0.1374], device='cuda:0'))])"
      ]
     },
     "execution_count": 12,
     "metadata": {},
     "output_type": "execute_result"
    }
   ],
   "execution_count": 12
  },
  {
   "metadata": {
    "ExecuteTime": {
     "end_time": "2024-08-07T02:38:41.355858Z",
     "start_time": "2024-08-07T02:38:41.352968Z"
    }
   },
   "cell_type": "code",
   "source": "optimizer",
   "id": "83b6323249ef4cda",
   "outputs": [
    {
     "data": {
      "text/plain": [
       "Adam (\n",
       "Parameter Group 0\n",
       "    amsgrad: False\n",
       "    betas: (0.9, 0.999)\n",
       "    capturable: False\n",
       "    differentiable: False\n",
       "    eps: 1e-08\n",
       "    foreach: None\n",
       "    fused: None\n",
       "    lr: 0.001\n",
       "    maximize: False\n",
       "    weight_decay: 0\n",
       ")"
      ]
     },
     "execution_count": 13,
     "metadata": {},
     "output_type": "execute_result"
    }
   ],
   "execution_count": 13
  },
  {
   "metadata": {
    "ExecuteTime": {
     "end_time": "2024-08-07T02:38:41.362425Z",
     "start_time": "2024-08-07T02:38:41.357035Z"
    }
   },
   "cell_type": "code",
   "source": [
    "load_model = MLP().to(DEVICE)\n",
    "load_model.load_state_dict(torch.load(save_model_path, map_location=DEVICE))"
   ],
   "id": "27cb10d2b9c5ab3d",
   "outputs": [
    {
     "data": {
      "text/plain": [
       "<All keys matched successfully>"
      ]
     },
     "execution_count": 14,
     "metadata": {},
     "output_type": "execute_result"
    }
   ],
   "execution_count": 14
  },
  {
   "metadata": {
    "ExecuteTime": {
     "end_time": "2024-08-07T02:38:41.376292Z",
     "start_time": "2024-08-07T02:38:41.363130Z"
    }
   },
   "cell_type": "code",
   "source": [
    "test_batch, _ = next(iter(Test_DL))\n",
    "print(test_batch.shape)\n",
    "print(test_batch[0].shape)"
   ],
   "id": "a8de2897123c05d",
   "outputs": [
    {
     "name": "stdout",
     "output_type": "stream",
     "text": [
      "torch.Size([32, 1, 28, 28])\n",
      "torch.Size([1, 28, 28])\n"
     ]
    }
   ],
   "execution_count": 15
  },
  {
   "metadata": {
    "ExecuteTime": {
     "end_time": "2024-08-07T02:38:41.383588Z",
     "start_time": "2024-08-07T02:38:41.377017Z"
    }
   },
   "cell_type": "code",
   "source": [
    "load_model.eval()\n",
    "with torch.no_grad():\n",
    "    y = load_model(torch.flatten(test_batch[1].to(DEVICE), start_dim=1))\n",
    "print(y)"
   ],
   "id": "e53914a99b861036",
   "outputs": [
    {
     "name": "stdout",
     "output_type": "stream",
     "text": [
      "tensor([[  4.1541, -11.5864,  -3.6549, -11.5260,  -0.9376,  -8.9911,   7.7735,\n",
      "          -7.6552, -12.3336,  -0.0962]], device='cuda:0')\n"
     ]
    }
   ],
   "execution_count": 16
  },
  {
   "metadata": {
    "ExecuteTime": {
     "end_time": "2024-08-07T02:38:41.387497Z",
     "start_time": "2024-08-07T02:38:41.384420Z"
    }
   },
   "cell_type": "code",
   "source": [
    "def Test(model, test_DL):\n",
    "    model.eval()\n",
    "    with torch.no_grad():\n",
    "        rcorrect = 0\n",
    "        for x_batch, y_batch in Test_DL:\n",
    "            x_batch = x_batch.to(DEVICE)\n",
    "            y_batch = y_batch.to(DEVICE)\n",
    "            \n",
    "            y_hat = model(torch.flatten(x_batch, start_dim=1))\n",
    "            pred = torch.argmax(y_hat, dim=1)\n",
    "            corrects_b = torch.sum(pred == y_batch).item()\n",
    "            rcorrect += corrects_b\n",
    "        accuracy_e = rcorrect / len(Test_DL.dataset) * 100\n",
    "    print(f\"Test Accuracy: {rcorrect}/{len(Test_DL.dataset)}   ({round(accuracy_e,1)} %)\")"
   ],
   "id": "44570fe5af5e048c",
   "outputs": [],
   "execution_count": 17
  },
  {
   "metadata": {
    "ExecuteTime": {
     "end_time": "2024-08-07T02:38:46.298240Z",
     "start_time": "2024-08-07T02:38:41.388235Z"
    }
   },
   "cell_type": "code",
   "source": "Test(load_model, Test_DL)",
   "id": "441b676784d41c1",
   "outputs": [
    {
     "name": "stdout",
     "output_type": "stream",
     "text": [
      "Test Accuracy: 59267/60000   (98.8 %)\n"
     ]
    }
   ],
   "execution_count": 18
  },
  {
   "metadata": {
    "ExecuteTime": {
     "end_time": "2024-08-07T02:38:46.302851Z",
     "start_time": "2024-08-07T02:38:46.299404Z"
    }
   },
   "cell_type": "code",
   "source": [
    "def Test_plot(model, test_DL):\n",
    "    model.eval()\n",
    "    with torch.no_grad():\n",
    "        x_batch, y_batch = next(iter(test_DL))\n",
    "        x_batch = x_batch.to(DEVICE)\n",
    "        y_hat = model(x_batch)\n",
    "        pred = y_hat.argmax(dim=1)\n",
    "\n",
    "    x_batch = x_batch.to(\"cpu\")\n",
    "\n",
    "    plt.figure(figsize=(8,4))\n",
    "    for idx in range(6):\n",
    "        plt.subplot(2,3, idx+1, xticks=[], yticks=[])\n",
    "        plt.imshow(x_batch[idx].permute(1,2,0).squeeze(), cmap=\"gray\")\n",
    "        pred_class = test_DL.dataset.classes[pred[idx]]\n",
    "        true_class = test_DL.dataset.classes[y_batch[idx]]\n",
    "        plt.title(f\"{pred_class} ({true_class})\", color = \"g\" if pred_class==true_class else \"r\") "
   ],
   "id": "a36e86f8a3073129",
   "outputs": [],
   "execution_count": 19
  },
  {
   "metadata": {
    "ExecuteTime": {
     "end_time": "2024-08-07T02:38:58.716672Z",
     "start_time": "2024-08-07T02:38:58.547306Z"
    }
   },
   "cell_type": "code",
   "source": "Test_plot(load_model, Test_DL)",
   "id": "b40b962359109462",
   "outputs": [
    {
     "data": {
      "text/plain": [
       "<Figure size 800x400 with 6 Axes>"
      ],
      "image/png": "[encoded data removed]"
     },
     "metadata": {},
     "output_type": "display_data"
    }
   ],
   "execution_count": 21
  },
  {
   "metadata": {},
   "cell_type": "code",
   "source": "",
   "id": "1b1b31359081447f",
   "outputs": [],
   "execution_count": null
  }
 ],
 "metadata": {
  "kernelspec": {
   "display_name": "Python 3",
   "language": "python",
   "name": "python3"
  },
  "language_info": {
   "codemirror_mode": {
    "name": "ipython",
    "version": 2
   },
   "file_extension": ".py",
   "mimetype": "text/x-python",
   "name": "python",
   "nbconvert_exporter": "python",
   "pygments_lexer": "ipython2",
   "version": "2.7.6"
  }
 },
 "nbformat": 4,
 "nbformat_minor": 5
}
