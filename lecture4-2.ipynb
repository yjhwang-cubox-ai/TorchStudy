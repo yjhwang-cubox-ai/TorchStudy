{
 "cells": [
  {
   "cell_type": "code",
   "id": "initial_id",
   "metadata": {
    "collapsed": true,
    "ExecuteTime": {
     "end_time": "2024-08-08T04:47:04.848533Z",
     "start_time": "2024-08-08T04:47:01.816940Z"
    }
   },
   "source": [
    "import torch\n",
    "from torch import nn\n",
    "from torchvision import transforms\n",
    "import numpy as np"
   ],
   "outputs": [],
   "execution_count": 1
  },
  {
   "metadata": {
    "ExecuteTime": {
     "end_time": "2024-08-08T04:51:43.215066Z",
     "start_time": "2024-08-08T04:51:43.211205Z"
    }
   },
   "cell_type": "code",
   "source": [
    "class Custom_Dataset(torch.utils.data.Dataset):\n",
    "    def __init__(self, X, Y, transform=None):\n",
    "        self.X = X\n",
    "        self.Y = Y\n",
    "        self.transform = transform\n",
    "    \n",
    "    def __len__(self):\n",
    "        return self.X.shape[0]\n",
    "    \n",
    "    def __getitem__(self, idx):\n",
    "        x = self.X[idx]\n",
    "        if self.transform is not None:\n",
    "            x = self.transform(x)\n",
    "        y = self.Y[idx]\n",
    "        return x, y"
   ],
   "id": "1bc608f0560895de",
   "outputs": [],
   "execution_count": 2
  },
  {
   "metadata": {
    "ExecuteTime": {
     "end_time": "2024-08-08T04:53:15.234572Z",
     "start_time": "2024-08-08T04:53:15.231524Z"
    }
   },
   "cell_type": "code",
   "source": [
    "X_data = np.arange(-10,10).reshape(-1,1)\n",
    "Y_data = X_data**2\n",
    "print(X_data.shape)"
   ],
   "id": "32b1872e72d87875",
   "outputs": [
    {
     "name": "stdout",
     "output_type": "stream",
     "text": [
      "(20, 1)\n"
     ]
    }
   ],
   "execution_count": 6
  },
  {
   "metadata": {
    "ExecuteTime": {
     "end_time": "2024-08-08T05:39:12.380815Z",
     "start_time": "2024-08-08T05:39:12.377373Z"
    }
   },
   "cell_type": "code",
   "source": [
    "transform = lambda  x:x+1\n",
    "BATCH_SIZE = 8\n",
    "\n",
    "custom_DS = Custom_Dataset(X_data, Y_data, transform)\n",
    "\n",
    "NoT = int(len(custom_DS) * 0.8)\n",
    "NoV = int(len(custom_DS) * 0.1)\n",
    "NoTes = len(custom_DS) - NoT - NoV\n",
    "train_DS, val_DS, test_DS = torch.utils.data.random_split(custom_DS, [NoT, NoV, NoTes])\n",
    "\n",
    "train_DL = torch.utils.data.DataLoader(train_DS, batch_size=BATCH_SIZE, shuffle=True)\n",
    "val_DL = torch.utils.data.DataLoader(val_DS, batch_size=BATCH_SIZE, shuffle=True)\n",
    "test_DL = torch.utils.data.DataLoader(test_DS, batch_size=BATCH_SIZE, shuffle=True)"
   ],
   "id": "d61f2043998bf2ef",
   "outputs": [],
   "execution_count": 26
  },
  {
   "metadata": {
    "ExecuteTime": {
     "end_time": "2024-08-08T05:40:33.829868Z",
     "start_time": "2024-08-08T05:40:33.824854Z"
    }
   },
   "cell_type": "code",
   "source": [
    "for x_batch, y_batch in train_DL:\n",
    "    print(f\"x_batch: {x_batch.reshape(-1)}, \\n\"\n",
    "          f\"y_batch: {y_batch.reshape(-1)}\")\n",
    "print()\n",
    "for x_batch, y_batch in val_DL:\n",
    "    print(f\"x_batch: {x_batch.reshape(-1)}, \\n\"\n",
    "          f\"y_batch: {y_batch.reshape(-1)}\")\n",
    "print()\n",
    "for x_batch, y_batch in test_DL:\n",
    "    print(f\"x_batch: {x_batch.reshape(-1)}, \\n\"\n",
    "          f\"y_batch: {y_batch.reshape(-1)}\")"
   ],
   "id": "823dc9754ba11431",
   "outputs": [
    {
     "name": "stdout",
     "output_type": "stream",
     "text": [
      "x_batch: tensor([-5,  0,  1,  7,  2, -9,  4,  3]), \n",
      "y_batch: tensor([ 36,   1,   0,  36,   1, 100,   9,   4])\n",
      "x_batch: tensor([-6,  8, -3,  9, -7,  5, -2, -4]), \n",
      "y_batch: tensor([49, 49, 16, 64, 64, 16,  9, 25])\n",
      "\n",
      "x_batch: tensor([-8, -1]), \n",
      "y_batch: tensor([81,  4])\n",
      "\n",
      "x_batch: tensor([ 6, 10]), \n",
      "y_batch: tensor([25, 81])\n"
     ]
    }
   ],
   "execution_count": 31
  },
  {
   "metadata": {
    "ExecuteTime": {
     "end_time": "2024-08-08T05:39:08.750111Z",
     "start_time": "2024-08-08T05:39:08.748283Z"
    }
   },
   "cell_type": "code",
   "source": "",
   "id": "469d60b6537aa52c",
   "outputs": [],
   "execution_count": 25
  },
  {
   "metadata": {},
   "cell_type": "code",
   "outputs": [],
   "execution_count": null,
   "source": "",
   "id": "c89629bb230fea44"
  }
 ],
 "metadata": {
  "kernelspec": {
   "display_name": "Python 3",
   "language": "python",
   "name": "python3"
  },
  "language_info": {
   "codemirror_mode": {
    "name": "ipython",
    "version": 2
   },
   "file_extension": ".py",
   "mimetype": "text/x-python",
   "name": "python",
   "nbconvert_exporter": "python",
   "pygments_lexer": "ipython2",
   "version": "2.7.6"
  }
 },
 "nbformat": 4,
 "nbformat_minor": 5
}
