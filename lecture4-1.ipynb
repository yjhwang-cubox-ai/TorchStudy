{
 "cells": [
  {
   "cell_type": "code",
   "id": "initial_id",
   "metadata": {
    "collapsed": true,
    "ExecuteTime": {
     "end_time": "2024-08-08T04:42:35.754437Z",
     "start_time": "2024-08-08T04:42:30.009293Z"
    }
   },
   "source": [
    "import torch\n",
    "from torch import nn, device\n",
    "from torchvision import datasets, transforms\n",
    "import matplotlib.pyplot as plt\n",
    "\n",
    "from multiclass_functions import *"
   ],
   "outputs": [],
   "execution_count": 1
  },
  {
   "metadata": {
    "ExecuteTime": {
     "end_time": "2024-08-08T04:42:35.758822Z",
     "start_time": "2024-08-08T04:42:35.756122Z"
    }
   },
   "cell_type": "code",
   "source": [
    "DEVICE = torch.device(\"cuda:0\" if torch.cuda.is_available() else \"cpu\")\n",
    "print(DEVICE)"
   ],
   "id": "f2a75cf88489db36",
   "outputs": [
    {
     "name": "stdout",
     "output_type": "stream",
     "text": [
      "cuda:0\n"
     ]
    }
   ],
   "execution_count": 2
  },
  {
   "metadata": {
    "ExecuteTime": {
     "end_time": "2024-08-08T04:42:38.085337Z",
     "start_time": "2024-08-08T04:42:35.759503Z"
    }
   },
   "cell_type": "code",
   "source": [
    "BATCH_SIZE = 64\n",
    "transform = transforms.ToTensor()\n",
    "train_DS = datasets.CIFAR10(root='./data', train=True, transform=transform, download=True)\n",
    "test_DS = datasets.CIFAR10(root='./data', train=False, transform=transform, download=True)\n",
    "train_DL = torch.utils.data.DataLoader(dataset=train_DS, batch_size=BATCH_SIZE, shuffle=True)\n",
    "test_DL = torch.utils.data.DataLoader(dataset=test_DS, batch_size=BATCH_SIZE, shuffle=True)"
   ],
   "id": "e8513c6ef6618619",
   "outputs": [
    {
     "name": "stdout",
     "output_type": "stream",
     "text": [
      "Files already downloaded and verified\n",
      "Files already downloaded and verified\n"
     ]
    }
   ],
   "execution_count": 3
  },
  {
   "metadata": {
    "ExecuteTime": {
     "end_time": "2024-08-08T04:42:38.250785Z",
     "start_time": "2024-08-08T04:42:38.087302Z"
    }
   },
   "cell_type": "code",
   "source": [
    "print(len(train_DS), len(test_DS))\n",
    "x_batch, y_batch = next(iter(test_DL))\n",
    "print(x_batch.shape)\n",
    "print(y_batch.shape)\n",
    "print(train_DS.class_to_idx)\n",
    "\n",
    "plt.imshow(x_batch[0].permute(1, 2, 0))\n",
    "print(test_DS.classes[y_batch[0]])"
   ],
   "id": "886774d434e0c941",
   "outputs": [
    {
     "name": "stdout",
     "output_type": "stream",
     "text": [
      "50000 10000\n",
      "torch.Size([64, 3, 32, 32])\n",
      "torch.Size([64])\n",
      "{'airplane': 0, 'automobile': 1, 'bird': 2, 'cat': 3, 'deer': 4, 'dog': 5, 'frog': 6, 'horse': 7, 'ship': 8, 'truck': 9}\n",
      "bird\n"
     ]
    },
    {
     "data": {
      "text/plain": [
       "<Figure size 640x480 with 1 Axes>"
      ],
      "image/png": "[encoded data removed]"
     },
     "metadata": {},
     "output_type": "display_data"
    }
   ],
   "execution_count": 4
  },
  {
   "metadata": {
    "ExecuteTime": {
     "end_time": "2024-08-08T04:42:38.260074Z",
     "start_time": "2024-08-08T04:42:38.252141Z"
    }
   },
   "cell_type": "code",
   "source": [
    "class CNN(nn.Module):\n",
    "    def __init__(self):\n",
    "        super().__init__()\n",
    "        \n",
    "        self.conv1 =nn.Sequential(nn.Conv2d(3,8,3, padding=1),\n",
    "                                  nn.BatchNorm2d(8),\n",
    "                                  nn.ReLU())\n",
    "        self.Maxpool1 = nn.MaxPool2d(kernel_size=2)\n",
    "        self.conv2 =nn.Sequential(nn.Conv2d(8,16,3, padding=1),\n",
    "                                  nn.BatchNorm2d(16),\n",
    "                                  nn.ReLU())\n",
    "        self.Maxpool2 = nn.MaxPool2d(kernel_size=2)\n",
    "        self.conv3 =nn.Sequential(nn.Conv2d(16,32,3, padding=1),\n",
    "                                  nn.BatchNorm2d(32),\n",
    "                                  nn.ReLU())\n",
    "        self.Maxpool3 = nn.MaxPool2d(kernel_size=2)\n",
    "        self.fc = nn.Linear(512, 10)\n",
    "    \n",
    "    def forward(self, x):\n",
    "        x = self.conv1(x)\n",
    "        x = self.Maxpool1(x)\n",
    "        x = self.conv2(x)\n",
    "        x = self.Maxpool2(x)\n",
    "        x = self.conv3(x)\n",
    "        x = self.Maxpool3(x)\n",
    "        x = torch.flatten(x, start_dim=1)\n",
    "        x = self.fc(x)\n",
    "                \n",
    "        return x    \n",
    "    \n",
    "    \n",
    "class CNN_deep(nn.Module):\n",
    "    def __init__(self):\n",
    "        super().__init__()\n",
    "        \n",
    "        self.conv_block1 = nn.Sequential(nn.Conv2d(3,32,3, padding=1),\n",
    "                                        nn.BatchNorm2d(32),\n",
    "                                        nn.ReLU(),\n",
    "                                        nn.Conv2d(32,32,3, padding=1),\n",
    "                                        nn.BatchNorm2d(32),\n",
    "                                        nn.ReLU())\n",
    "        self.Maxpool1 = nn.MaxPool2d(kernel_size=2)\n",
    "        \n",
    "        self.conv_block2 = nn.Sequential(nn.Conv2d(32,64,3, padding=1),\n",
    "                                        nn.BatchNorm2d(64),\n",
    "                                        nn.ReLU(),\n",
    "                                        nn.Conv2d(64,64,3, padding=1),\n",
    "                                        nn.BatchNorm2d(64),\n",
    "                                        nn.ReLU(),\n",
    "                                        nn.Conv2d(64,64,3, padding=1),\n",
    "                                        nn.BatchNorm2d(64),\n",
    "                                        nn.ReLU())\n",
    "        self.Maxpool2 = nn.MaxPool2d(kernel_size=2)\n",
    "        \n",
    "        self.conv_block3 = nn.Sequential(nn.Conv2d(64,128,3, padding=1),\n",
    "                                        nn.BatchNorm2d(128),\n",
    "                                        nn.ReLU(),\n",
    "                                        nn.Conv2d(128,128,3, padding=1),\n",
    "                                        nn.BatchNorm2d(128),\n",
    "                                        nn.ReLU(),\n",
    "                                        nn.Conv2d(128,128,3, padding=1),\n",
    "                                        nn.BatchNorm2d(128),\n",
    "                                        nn.ReLU())\n",
    "        self.Maxpool3 = nn.MaxPool2d(kernel_size=2)\n",
    "        \n",
    "        self.fc = nn.Sequential(nn.Linear(2048,512),\n",
    "                                nn.Linear(512, 10))\n",
    "    \n",
    "    def forward(self, x):\n",
    "        x = self.conv_block1(x)\n",
    "        x = self.Maxpool1(x)\n",
    "        x = self.conv_block2(x)\n",
    "        x = self.Maxpool2(x)\n",
    "        x = self.conv_block3(x)\n",
    "        x = self.Maxpool3(x)\n",
    "        x = torch.flatten(x, start_dim=1)\n",
    "        x = self.fc(x)\n",
    "                \n",
    "        return x    \n",
    "        \n",
    "        "
   ],
   "id": "af73804367400cfc",
   "outputs": [],
   "execution_count": 5
  },
  {
   "metadata": {
    "ExecuteTime": {
     "end_time": "2024-08-08T04:42:40.038936Z",
     "start_time": "2024-08-08T04:42:38.260765Z"
    }
   },
   "cell_type": "code",
   "source": [
    "x = torch.randn(32,3,32,32)\n",
    "model = CNN_deep()\n",
    "print(model(x).shape)\n",
    "print(torch.argmax(model(x), dim=1))"
   ],
   "id": "6a7c6470fd2de18e",
   "outputs": [
    {
     "name": "stdout",
     "output_type": "stream",
     "text": [
      "torch.Size([32, 10])\n",
      "tensor([5, 5, 5, 2, 4, 5, 5, 5, 5, 4, 5, 5, 5, 4, 4, 5, 5, 5, 4, 5, 4, 5, 5, 5,\n",
      "        5, 5, 4, 4, 5, 4, 5, 5])\n"
     ]
    }
   ],
   "execution_count": 6
  },
  {
   "metadata": {
    "ExecuteTime": {
     "end_time": "2024-08-08T04:42:40.042944Z",
     "start_time": "2024-08-08T04:42:40.039830Z"
    }
   },
   "cell_type": "code",
   "source": [
    "EPOCHS = 30\n",
    "optimizer = torch.optim.Adam(model.parameters(), lr=0.001)\n",
    "criterion = nn.CrossEntropyLoss()"
   ],
   "id": "16e0acc4c2a0e62",
   "outputs": [],
   "execution_count": 7
  },
  {
   "metadata": {
    "ExecuteTime": {
     "end_time": "2024-08-08T04:46:36.686870Z",
     "start_time": "2024-08-08T04:42:40.043675Z"
    }
   },
   "cell_type": "code",
   "source": "loss_hist = Train(model=model, train_DL=train_DL, optimizer=optimizer, criterion=criterion, EPOCH=EPOCHS)",
   "id": "b6928834d6b2bea5",
   "outputs": [
    {
     "name": "stdout",
     "output_type": "stream",
     "text": [
      "DEVICE: cuda\n",
      "Epoch 1/30, Loss: 1.581\n",
      "--------------------\n",
      "Epoch 2/30, Loss: 0.978\n",
      "--------------------\n",
      "Epoch 3/30, Loss: 0.753\n",
      "--------------------\n",
      "Epoch 4/30, Loss: 0.627\n",
      "--------------------\n",
      "Epoch 5/30, Loss: 0.537\n",
      "--------------------\n",
      "Epoch 6/30, Loss: 0.458\n",
      "--------------------\n",
      "Epoch 7/30, Loss: 0.396\n",
      "--------------------\n",
      "Epoch 8/30, Loss: 0.339\n",
      "--------------------\n",
      "Epoch 9/30, Loss: 0.292\n",
      "--------------------\n",
      "Epoch 10/30, Loss: 0.237\n",
      "--------------------\n",
      "Epoch 11/30, Loss: 0.208\n",
      "--------------------\n",
      "Epoch 12/30, Loss: 0.17\n",
      "--------------------\n",
      "Epoch 13/30, Loss: 0.156\n",
      "--------------------\n",
      "Epoch 14/30, Loss: 0.124\n",
      "--------------------\n",
      "Epoch 15/30, Loss: 0.108\n",
      "--------------------\n",
      "Epoch 16/30, Loss: 0.102\n",
      "--------------------\n",
      "Epoch 17/30, Loss: 0.088\n",
      "--------------------\n",
      "Epoch 18/30, Loss: 0.079\n",
      "--------------------\n",
      "Epoch 19/30, Loss: 0.08\n",
      "--------------------\n",
      "Epoch 20/30, Loss: 0.072\n",
      "--------------------\n",
      "Epoch 21/30, Loss: 0.069\n",
      "--------------------\n",
      "Epoch 22/30, Loss: 0.059\n",
      "--------------------\n",
      "Epoch 23/30, Loss: 0.059\n",
      "--------------------\n",
      "Epoch 24/30, Loss: 0.057\n",
      "--------------------\n",
      "Epoch 25/30, Loss: 0.063\n",
      "--------------------\n",
      "Epoch 26/30, Loss: 0.052\n",
      "--------------------\n",
      "Epoch 27/30, Loss: 0.057\n",
      "--------------------\n",
      "Epoch 28/30, Loss: 0.046\n",
      "--------------------\n",
      "Epoch 29/30, Loss: 0.05\n",
      "--------------------\n",
      "Epoch 30/30, Loss: 0.044\n",
      "--------------------\n"
     ]
    }
   ],
   "execution_count": 8
  },
  {
   "metadata": {},
   "cell_type": "code",
   "source": [
    "model_save_path = \"./CNN.pth\"\n",
    "torch.save(model.state_dict(), model_save_path)"
   ],
   "id": "a4e6aebe06d82445",
   "outputs": [],
   "execution_count": null
  },
  {
   "metadata": {},
   "cell_type": "code",
   "source": [
    "load_model = CNN_deep().to(DEVICE)\n",
    "load_model.load_state_dict(torch.load(model_save_path))"
   ],
   "id": "3c9041fad49b704e",
   "outputs": [],
   "execution_count": null
  },
  {
   "metadata": {},
   "cell_type": "code",
   "source": "Test(load_model, test_DL)",
   "id": "db615ada1ee4e7a5",
   "outputs": [],
   "execution_count": null
  },
  {
   "metadata": {},
   "cell_type": "code",
   "source": "Test_plot(load_model, test_DL)",
   "id": "923d4a4aa0ac9ba5",
   "outputs": [],
   "execution_count": null
  },
  {
   "metadata": {
    "ExecuteTime": {
     "end_time": "2024-08-08T05:52:53.532455Z",
     "start_time": "2024-08-08T05:52:48.988411Z"
    }
   },
   "cell_type": "code",
   "source": [
    "import json\n",
    "with open('/purestorage/OCR/Documents_dataset/RecogDataset_docu/Validation/annotation.json', 'r') as f:\n",
    "    data = json.load(f)\n",
    "\n",
    "print(len(data['data_list']))"
   ],
   "id": "2e24a08cfca0b41b",
   "outputs": [
    {
     "name": "stdout",
     "output_type": "stream",
     "text": [
      "1339179\n"
     ]
    }
   ],
   "execution_count": 10
  },
  {
   "metadata": {},
   "cell_type": "code",
   "outputs": [],
   "execution_count": null,
   "source": "",
   "id": "3545494cd467ec39"
  }
 ],
 "metadata": {
  "kernelspec": {
   "display_name": "Python 3",
   "language": "python",
   "name": "python3"
  },
  "language_info": {
   "codemirror_mode": {
    "name": "ipython",
    "version": 2
   },
   "file_extension": ".py",
   "mimetype": "text/x-python",
   "name": "python",
   "nbconvert_exporter": "python",
   "pygments_lexer": "ipython2",
   "version": "2.7.6"
  }
 },
 "nbformat": 4,
 "nbformat_minor": 5
}
