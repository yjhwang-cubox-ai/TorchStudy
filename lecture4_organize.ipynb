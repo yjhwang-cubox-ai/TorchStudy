{
 "cells": [
  {
   "metadata": {},
   "cell_type": "code",
   "source": [
    "import torch\n",
    "from torch import nn"
   ],
   "id": "f7f7229c5a3cd7f9",
   "outputs": [],
   "execution_count": null
  },
  {
   "metadata": {},
   "cell_type": "markdown",
   "source": "### Dropout",
   "id": "e491b91eaa6c7997"
  },
  {
   "metadata": {},
   "cell_type": "code",
   "source": [
    "class sample_model(nn.Module):\n",
    "    def __init__(self):\n",
    "        super().__init__()\n",
    "        self.drop_layer = nn.Sequential(nn.Linear(5,7),\n",
    "                                        nn.Dropout(0.3))\n",
    "    def forward(self, x):\n",
    "        x = self.drop_layer(x)\n",
    "        return x"
   ],
   "id": "dbcddb289168c3aa",
   "outputs": [],
   "execution_count": null
  },
  {
   "metadata": {},
   "cell_type": "code",
   "source": [
    "model = sample_model()\n",
    "model.train()\n",
    "x = torch.randn(3,5)\n",
    "print(model(x))\n",
    "\n",
    "model.eval()\n",
    "print(model(x)) # 살 확률 0.7 이 곱해진다."
   ],
   "id": "8ea6cf69a3b81357",
   "outputs": [],
   "execution_count": null
  },
  {
   "metadata": {},
   "cell_type": "markdown",
   "source": "### CNN 구현",
   "id": "8541eeb98d6291f8"
  },
  {
   "metadata": {
    "ExecuteTime": {
     "end_time": "2024-08-08T10:04:19.062894Z",
     "start_time": "2024-08-08T10:04:13.717902Z"
    }
   },
   "cell_type": "code",
   "source": [
    "import torch\n",
    "from torch import nn\n",
    "from torchvision import datasets, transforms\n",
    "import matplotlib.pyplot as plt\n",
    "from multiclass_functions import *"
   ],
   "id": "81f5c9916e4fa439",
   "outputs": [],
   "execution_count": 1
  },
  {
   "metadata": {
    "ExecuteTime": {
     "end_time": "2024-08-08T10:04:19.066946Z",
     "start_time": "2024-08-08T10:04:19.064322Z"
    }
   },
   "cell_type": "code",
   "source": [
    "DEVICE = 'cuda' if torch.cuda.is_available() else 'cpu'\n",
    "print(DEVICE)"
   ],
   "id": "2efb5b30d4557b39",
   "outputs": [
    {
     "name": "stdout",
     "output_type": "stream",
     "text": [
      "cuda\n"
     ]
    }
   ],
   "execution_count": 2
  },
  {
   "metadata": {
    "ExecuteTime": {
     "end_time": "2024-08-08T10:04:21.070613Z",
     "start_time": "2024-08-08T10:04:19.067692Z"
    }
   },
   "cell_type": "code",
   "source": [
    "transform_train = transforms.ToTensor()\n",
    "transform_test = transforms.ToTensor()\n",
    "\n",
    "BATCH_SIZE = 64\n",
    "TRAIN_RATIO = 0.8\n",
    "\n",
    "train_DS = datasets.CIFAR10(root='./data', train=True, transform=transform_train, download=True)\n",
    "NoT = int(len(train_DS) * TRAIN_RATIO)\n",
    "NoV = len(train_DS) - NoT\n",
    "train_DS, val_DS = torch.utils.data.random_split(train_DS, [NoT, NoV])\n",
    "val_DS.transform = transform_test\n",
    "test_DS = datasets.CIFAR10(root='./data', train=False, transform=transform_test)\n",
    "\n",
    "train_DL = torch.utils.data.DataLoader(train_DS, batch_size=BATCH_SIZE, shuffle=True)\n",
    "val_DL = torch.utils.data.DataLoader(val_DS, batch_size=BATCH_SIZE, shuffle=True)\n",
    "test_DL = torch.utils.data.DataLoader(test_DS, batch_size=BATCH_SIZE, shuffle=True)"
   ],
   "id": "6bae11bdd692ca41",
   "outputs": [
    {
     "name": "stdout",
     "output_type": "stream",
     "text": [
      "Files already downloaded and verified\n"
     ]
    }
   ],
   "execution_count": 3
  },
  {
   "metadata": {
    "ExecuteTime": {
     "end_time": "2024-08-08T10:05:31.867590Z",
     "start_time": "2024-08-08T10:05:31.862433Z"
    }
   },
   "cell_type": "code",
   "source": [
    "class CNN_deep(nn.Module):\n",
    "    def __init__(self):\n",
    "        super().__init__()\n",
    "        \n",
    "        self.conv_block1 = nn.Sequential(nn.Conv2d(3,32,3, padding=1),\n",
    "                                        nn.BatchNorm2d(32),\n",
    "                                        nn.ReLU(),\n",
    "                                        nn.Conv2d(32,32,3, padding=1),\n",
    "                                        nn.BatchNorm2d(32),\n",
    "                                        nn.ReLU())\n",
    "        self.Maxpool1 = nn.MaxPool2d(kernel_size=2)\n",
    "        \n",
    "        self.conv_block2 = nn.Sequential(nn.Conv2d(32,64,3, padding=1),\n",
    "                                        nn.BatchNorm2d(64),\n",
    "                                        nn.ReLU(),\n",
    "                                        nn.Conv2d(64,64,3, padding=1),\n",
    "                                        nn.BatchNorm2d(64),\n",
    "                                        nn.ReLU(),\n",
    "                                        nn.Conv2d(64,64,3, padding=1),\n",
    "                                        nn.BatchNorm2d(64),\n",
    "                                        nn.ReLU())\n",
    "        self.Maxpool2 = nn.MaxPool2d(kernel_size=2)\n",
    "        \n",
    "        self.conv_block3 = nn.Sequential(nn.Conv2d(64,128,3, padding=1),\n",
    "                                        nn.BatchNorm2d(128),\n",
    "                                        nn.ReLU(),\n",
    "                                        nn.Conv2d(128,128,3, padding=1),\n",
    "                                        nn.BatchNorm2d(128),\n",
    "                                        nn.ReLU(),\n",
    "                                        nn.Conv2d(128,128,3, padding=1),\n",
    "                                        nn.BatchNorm2d(128),\n",
    "                                        nn.ReLU())\n",
    "        self.Maxpool3 = nn.MaxPool2d(kernel_size=2)\n",
    "        \n",
    "        self.fc = nn.Sequential(nn.Linear(2048,512),\n",
    "                                nn.Linear(512, 10))\n",
    "    \n",
    "    def forward(self, x):\n",
    "        x = self.conv_block1(x)\n",
    "        x = self.Maxpool1(x)\n",
    "        x = self.conv_block2(x)\n",
    "        x = self.Maxpool2(x)\n",
    "        x = self.conv_block3(x)\n",
    "        x = self.Maxpool3(x)\n",
    "        x = torch.flatten(x, start_dim=1)\n",
    "        x = self.fc(x)\n",
    "                \n",
    "        return x"
   ],
   "id": "8fc7fd5f5e6d05ac",
   "outputs": [],
   "execution_count": 8
  },
  {
   "metadata": {
    "ExecuteTime": {
     "end_time": "2024-08-08T10:07:39.451552Z",
     "start_time": "2024-08-08T10:06:32.734736Z"
    }
   },
   "cell_type": "code",
   "source": [
    "model = CNN_deep()\n",
    "criterion = nn.CrossEntropyLoss()\n",
    "optimizer = torch.optim.Adam(model.parameters(), lr=0.001)\n",
    "EPOCH = 10\n",
    "NoT = len(train_DS)\n",
    "\n",
    "model.train()\n",
    "loss_hist = []\n",
    "for ep in range(EPOCH):\n",
    "    r_loss = 0\n",
    "    for x_batch, y_batch in train_DL:\n",
    "        x_batch = x_batch.to(DEVICE)\n",
    "        y_batch = y_batch.to(DEVICE)\n",
    "        model = model.to(DEVICE)\n",
    "        \n",
    "        y_hat = model(x_batch)\n",
    "        loss = criterion(y_hat, y_batch)\n",
    "                \n",
    "        optimizer.zero_grad()\n",
    "        loss.backward()\n",
    "        optimizer.step()\n",
    "        \n",
    "        loss_b = loss.item() * x_batch.shape[0]\n",
    "        r_loss += loss_b        \n",
    "    \n",
    "    # print loss\n",
    "    loss_e = r_loss / len(train_DL.dataset)\n",
    "    loss_hist.append(loss_e)\n",
    "    print(f\"Epoch {ep + 1}/{EPOCH}, Loss: {round(loss_e, 3)}\")\n",
    "    print(\"-\" * 20)\n",
    " "
   ],
   "id": "56a36da3cddfb3f9",
   "outputs": [
    {
     "name": "stdout",
     "output_type": "stream",
     "text": [
      "Epoch 1/10, Loss: 1.65\n",
      "--------------------\n",
      "Epoch 2/10, Loss: 1.061\n",
      "--------------------\n",
      "Epoch 3/10, Loss: 0.833\n",
      "--------------------\n",
      "Epoch 4/10, Loss: 0.699\n",
      "--------------------\n",
      "Epoch 5/10, Loss: 0.595\n",
      "--------------------\n",
      "Epoch 6/10, Loss: 0.507\n",
      "--------------------\n",
      "Epoch 7/10, Loss: 0.428\n",
      "--------------------\n",
      "Epoch 8/10, Loss: 0.367\n",
      "--------------------\n",
      "Epoch 9/10, Loss: 0.31\n",
      "--------------------\n",
      "Epoch 10/10, Loss: 0.26\n",
      "--------------------\n"
     ]
    }
   ],
   "execution_count": 12
  },
  {
   "metadata": {
    "ExecuteTime": {
     "end_time": "2024-08-08T10:12:44.424855Z",
     "start_time": "2024-08-08T10:12:43.229643Z"
    }
   },
   "cell_type": "code",
   "source": [
    "model.eval()\n",
    "with torch.no_grad():\n",
    "    correct_r = 0\n",
    "    for x_batch, y_batch in test_DL:\n",
    "        x_batch = x_batch.to(DEVICE)\n",
    "        y_batch = y_batch.to(DEVICE)\n",
    "        model = model.to(DEVICE)\n",
    "        \n",
    "        y_hat = model(x_batch)\n",
    "        pred = torch.argmax(y_hat, dim=1)\n",
    "        correct_b = (pred == y_batch).sum().item()\n",
    "        correct_r += correct_b\n",
    "    accuracy = correct_r / len(test_DL.dataset) * 100\n",
    "    print(f\"Test accuracy: {correct_r}/{len(test_DL.dataset)} ({round(accuracy, 1)} %)\")\n",
    "        "
   ],
   "id": "b8a92f4f2ab0b0a2",
   "outputs": [
    {
     "name": "stdout",
     "output_type": "stream",
     "text": [
      "Test accuracy: 8187/10000 (81.9 %)\n"
     ]
    }
   ],
   "execution_count": 21
  },
  {
   "metadata": {
    "ExecuteTime": {
     "end_time": "2024-08-08T10:11:18.104515Z",
     "start_time": "2024-08-08T10:11:18.070271Z"
    }
   },
   "cell_type": "code",
   "source": [
    "save_model_path = \"./temp_model.pth\"\n",
    "torch.save(model.state_dict(), save_model_path)"
   ],
   "id": "bbcacc4a8bd801a6",
   "outputs": [],
   "execution_count": 15
  },
  {
   "metadata": {
    "ExecuteTime": {
     "end_time": "2024-08-08T10:11:50.380065Z",
     "start_time": "2024-08-08T10:11:50.328332Z"
    }
   },
   "cell_type": "code",
   "source": [
    "load_model = CNN_deep()\n",
    "load_model.load_state_dict(torch.load(save_model_path))"
   ],
   "id": "31bfc68cdd63a143",
   "outputs": [
    {
     "data": {
      "text/plain": [
       "<All keys matched successfully>"
      ]
     },
     "execution_count": 16,
     "metadata": {},
     "output_type": "execute_result"
    }
   ],
   "execution_count": 16
  },
  {
   "metadata": {
    "ExecuteTime": {
     "end_time": "2024-08-08T10:12:46.932721Z",
     "start_time": "2024-08-08T10:12:45.740881Z"
    }
   },
   "cell_type": "code",
   "source": [
    "model.eval()\n",
    "with torch.no_grad():\n",
    "    correct_r = 0\n",
    "    for x_batch, y_batch in test_DL:\n",
    "        x_batch = x_batch.to(DEVICE)\n",
    "        y_batch = y_batch.to(DEVICE)\n",
    "        model = load_model.to(DEVICE)\n",
    "        \n",
    "        y_hat = model(x_batch)\n",
    "        pred = torch.argmax(y_hat, dim=1)\n",
    "        correct_b = (pred == y_batch).sum().item()\n",
    "        correct_r += correct_b\n",
    "    accuracy = correct_r / len(test_DL.dataset) * 100\n",
    "    print(f\"Test accuracy: {correct_r}/{len(test_DL.dataset)} ({round(accuracy, 1)} %)\")"
   ],
   "id": "ae7bbef7adfe922",
   "outputs": [
    {
     "name": "stdout",
     "output_type": "stream",
     "text": [
      "Test accuracy: 8187/10000 (81.9 %)\n"
     ]
    }
   ],
   "execution_count": 22
  },
  {
   "metadata": {},
   "cell_type": "markdown",
   "source": "### parameters() vs modules() vs children() 그리고 instance 의 활용",
   "id": "2743e81695d2dd40"
  },
  {
   "metadata": {
    "ExecuteTime": {
     "end_time": "2024-08-08T10:28:45.474340Z",
     "start_time": "2024-08-08T10:28:40.786001Z"
    }
   },
   "cell_type": "code",
   "source": [
    "import torch\n",
    "from torch import nn\n",
    "from torchvision import datasets, transforms\n",
    "import matplotlib.pyplot as plt\n",
    "from multiclass_functions import *"
   ],
   "id": "33f7539657d60a00",
   "outputs": [],
   "execution_count": 1
  },
  {
   "metadata": {
    "ExecuteTime": {
     "end_time": "2024-08-08T10:28:45.479243Z",
     "start_time": "2024-08-08T10:28:45.475836Z"
    }
   },
   "cell_type": "code",
   "source": [
    "class MLP(nn.Module):\n",
    "    def __init__(self):\n",
    "        super().__init__()\n",
    "        self.fc1 = nn.Sequential(nn.Linear(2,3),\n",
    "                                 nn.ReLU())\n",
    "        self.fc2 = nn.Sequential(nn.Linear(3,4),\n",
    "                                 nn.ReLU())\n",
    "        self.fc_out = nn.Sequential(nn.Linear(4,1),\n",
    "                                 nn.Sigmoid())\n",
    "    def forward(self, x):\n",
    "        x = self.fc1(x)\n",
    "        x = self.fc2(x)\n",
    "        x = self.fc_out(x)\n",
    "        return x"
   ],
   "id": "707145264ea2f99f",
   "outputs": [],
   "execution_count": 2
  },
  {
   "metadata": {
    "ExecuteTime": {
     "end_time": "2024-08-08T10:29:16.628136Z",
     "start_time": "2024-08-08T10:29:16.621798Z"
    }
   },
   "cell_type": "code",
   "source": [
    "# for transfer learning\n",
    "model = MLP()\n",
    "print(list(model.parameters()))\n",
    "print()\n",
    "print([p for p in model.parameters() if p.requires_grad==True])"
   ],
   "id": "8eaeb7530600d549",
   "outputs": [
    {
     "name": "stdout",
     "output_type": "stream",
     "text": [
      "[Parameter containing:\n",
      "tensor([[ 0.5339, -0.6109],\n",
      "        [-0.3717, -0.0799],\n",
      "        [-0.3760,  0.0765]], requires_grad=True), Parameter containing:\n",
      "tensor([-0.5630,  0.1454,  0.3495], requires_grad=True), Parameter containing:\n",
      "tensor([[ 0.1106,  0.2840, -0.2463],\n",
      "        [-0.1399, -0.2008, -0.4529],\n",
      "        [ 0.5536,  0.1315, -0.3006],\n",
      "        [-0.0438,  0.4574,  0.0928]], requires_grad=True), Parameter containing:\n",
      "tensor([-0.1177,  0.3327, -0.1370, -0.2964], requires_grad=True), Parameter containing:\n",
      "tensor([[-0.4216,  0.1111,  0.2893, -0.2780]], requires_grad=True), Parameter containing:\n",
      "tensor([0.4232], requires_grad=True)]\n",
      "\n",
      "[Parameter containing:\n",
      "tensor([[ 0.5339, -0.6109],\n",
      "        [-0.3717, -0.0799],\n",
      "        [-0.3760,  0.0765]], requires_grad=True), Parameter containing:\n",
      "tensor([-0.5630,  0.1454,  0.3495], requires_grad=True), Parameter containing:\n",
      "tensor([[ 0.1106,  0.2840, -0.2463],\n",
      "        [-0.1399, -0.2008, -0.4529],\n",
      "        [ 0.5536,  0.1315, -0.3006],\n",
      "        [-0.0438,  0.4574,  0.0928]], requires_grad=True), Parameter containing:\n",
      "tensor([-0.1177,  0.3327, -0.1370, -0.2964], requires_grad=True), Parameter containing:\n",
      "tensor([[-0.4216,  0.1111,  0.2893, -0.2780]], requires_grad=True), Parameter containing:\n",
      "tensor([0.4232], requires_grad=True)]\n"
     ]
    }
   ],
   "execution_count": 5
  },
  {
   "metadata": {
    "ExecuteTime": {
     "end_time": "2024-08-08T10:29:18.819834Z",
     "start_time": "2024-08-08T10:29:18.817123Z"
    }
   },
   "cell_type": "code",
   "source": [
    "for p in model.parameters():\n",
    "    p.requires_grad = False\n",
    "\n",
    "print([p for p in model.parameters() if p.requires_grad==True])"
   ],
   "id": "31c82797523dcb71",
   "outputs": [
    {
     "name": "stdout",
     "output_type": "stream",
     "text": [
      "[]\n"
     ]
    }
   ],
   "execution_count": 6
  },
  {
   "metadata": {
    "ExecuteTime": {
     "end_time": "2024-08-08T10:29:33.488700Z",
     "start_time": "2024-08-08T10:29:33.483589Z"
    }
   },
   "cell_type": "code",
   "source": "optimizer = torch.optim.Adam(model.parameters(), lr=0.001)",
   "id": "d1dd186b630cc904",
   "outputs": [],
   "execution_count": 7
  },
  {
   "metadata": {
    "ExecuteTime": {
     "end_time": "2024-08-08T10:31:38.016539Z",
     "start_time": "2024-08-08T10:31:38.012579Z"
    }
   },
   "cell_type": "code",
   "source": [
    "print([m for m in model.modules() if isinstance(m, nn.Linear)])\n",
    "print()\n",
    "print([m.weight for m in model.modules() if isinstance(m, nn.Linear)])\n",
    "print()\n",
    "print([m.weight.grad for m in model.modules() if isinstance(m, nn.Linear)])"
   ],
   "id": "3bbb9b090ce495a0",
   "outputs": [
    {
     "name": "stdout",
     "output_type": "stream",
     "text": [
      "[Linear(in_features=2, out_features=3, bias=True), Linear(in_features=3, out_features=4, bias=True), Linear(in_features=4, out_features=1, bias=True)]\n",
      "\n",
      "[Parameter containing:\n",
      "tensor([[ 0.5339, -0.6109],\n",
      "        [-0.3717, -0.0799],\n",
      "        [-0.3760,  0.0765]]), Parameter containing:\n",
      "tensor([[ 0.1106,  0.2840, -0.2463],\n",
      "        [-0.1399, -0.2008, -0.4529],\n",
      "        [ 0.5536,  0.1315, -0.3006],\n",
      "        [-0.0438,  0.4574,  0.0928]]), Parameter containing:\n",
      "tensor([[-0.4216,  0.1111,  0.2893, -0.2780]])]\n",
      "\n",
      "[None, None, None]\n"
     ]
    }
   ],
   "execution_count": 12
  },
  {
   "metadata": {
    "ExecuteTime": {
     "end_time": "2024-08-08T10:32:27.095385Z",
     "start_time": "2024-08-08T10:32:27.091236Z"
    }
   },
   "cell_type": "code",
   "source": [
    "# weight initialize 에 활용\n",
    "for m in model.modules():\n",
    "    if isinstance(m, nn.Linear):\n",
    "        nn.init.kaiming_normal_(m.weight)\n",
    "print([m.weight for m in model.modules() if isinstance(m, nn.Linear)])"
   ],
   "id": "2c0b14b84843920a",
   "outputs": [
    {
     "name": "stdout",
     "output_type": "stream",
     "text": [
      "[Parameter containing:\n",
      "tensor([[ 0.4282,  0.0053],\n",
      "        [-0.9767, -1.1543],\n",
      "        [-0.3304, -0.5403]]), Parameter containing:\n",
      "tensor([[ 0.3336,  0.8146, -0.3432],\n",
      "        [-0.7594, -0.2373,  1.3115],\n",
      "        [ 1.0854, -0.0570,  1.7495],\n",
      "        [-2.1798, -0.8359, -0.7199]]), Parameter containing:\n",
      "tensor([[ 0.0904,  0.5306, -0.6739,  0.0821]])]\n"
     ]
    }
   ],
   "execution_count": 13
  },
  {
   "metadata": {
    "ExecuteTime": {
     "end_time": "2024-08-08T10:33:37.978959Z",
     "start_time": "2024-08-08T10:33:37.976155Z"
    }
   },
   "cell_type": "code",
   "source": [
    "x = torch.randn(100,2)\n",
    "y = list(model.children())[0](x)\n",
    "print(y.shape)"
   ],
   "id": "b270ebc6ac46c743",
   "outputs": [
    {
     "name": "stdout",
     "output_type": "stream",
     "text": [
      "torch.Size([100, 3])\n"
     ]
    }
   ],
   "execution_count": 15
  },
  {
   "metadata": {},
   "cell_type": "markdown",
   "source": "### ModuleList vs Sequential",
   "id": "baf498f52f7673e2"
  },
  {
   "metadata": {
    "ExecuteTime": {
     "end_time": "2024-08-08T10:35:21.109521Z",
     "start_time": "2024-08-08T10:35:21.106577Z"
    }
   },
   "cell_type": "code",
   "source": [
    "fc = nn.Linear(3,3)\n",
    "layer_list = [fc for _ in range(5)]"
   ],
   "id": "e5983ba6e12ef88e",
   "outputs": [],
   "execution_count": 21
  },
  {
   "metadata": {
    "ExecuteTime": {
     "end_time": "2024-08-08T10:36:09.852716Z",
     "start_time": "2024-08-08T10:36:09.849528Z"
    }
   },
   "cell_type": "code",
   "source": [
    "layers1 = nn.Sequential(*layer_list)\n",
    "layers2 = nn.ModuleList(layer_list)\n",
    "print(layers1)\n",
    "print(layers2)"
   ],
   "id": "7eda7814a0c2fe4b",
   "outputs": [
    {
     "name": "stdout",
     "output_type": "stream",
     "text": [
      "Sequential(\n",
      "  (0): Linear(in_features=3, out_features=3, bias=True)\n",
      "  (1): Linear(in_features=3, out_features=3, bias=True)\n",
      "  (2): Linear(in_features=3, out_features=3, bias=True)\n",
      "  (3): Linear(in_features=3, out_features=3, bias=True)\n",
      "  (4): Linear(in_features=3, out_features=3, bias=True)\n",
      ")\n",
      "ModuleList(\n",
      "  (0-4): 5 x Linear(in_features=3, out_features=3, bias=True)\n",
      ")\n"
     ]
    }
   ],
   "execution_count": 23
  },
  {
   "metadata": {
    "ExecuteTime": {
     "end_time": "2024-08-08T10:39:45.584188Z",
     "start_time": "2024-08-08T10:39:45.579669Z"
    }
   },
   "cell_type": "code",
   "source": [
    "x = torch.randn(2,3)\n",
    "y1 = layers1(x)\n",
    "print(y1)\n",
    "\n",
    "# 에러남\n",
    "# y2 = layers2(x)\n",
    "# print(y2)\n",
    "\n",
    "for layer in layers2:\n",
    "    x = layer(x)\n",
    "print(x)"
   ],
   "id": "48fa021d4ee39137",
   "outputs": [
    {
     "name": "stdout",
     "output_type": "stream",
     "text": [
      "tensor([[ 1.0271, -0.3800, -0.5289],\n",
      "        [ 0.9759, -0.3498, -0.4998]], grad_fn=<AddmmBackward0>)\n",
      "tensor([[ 1.0271, -0.3800, -0.5289],\n",
      "        [ 0.9759, -0.3498, -0.4998]], grad_fn=<AddmmBackward0>)\n",
      "tensor([[ 1.0029, -0.3905, -0.5127],\n",
      "        [ 1.0046, -0.3902, -0.5138]], grad_fn=<AddmmBackward0>)\n"
     ]
    }
   ],
   "execution_count": 32
  },
  {
   "metadata": {
    "ExecuteTime": {
     "end_time": "2024-08-08T10:42:46.346737Z",
     "start_time": "2024-08-08T10:42:46.343587Z"
    }
   },
   "cell_type": "code",
   "source": [
    "# 이럴거면 걍 리스트 쓰지 왜 nn.ModuleList 를 쓸까?\n",
    "class TestNet(nn.Module):\n",
    "    def __init__(self):\n",
    "        super().__init__()\n",
    "        \n",
    "        # self.Module_List = [nn.Linear(3, 3), nn.Linear(3, 3)]\n",
    "        self.Module_List = nn.ModuleList([nn.Linear(3, 3), nn.Linear(3, 3)])\n",
    "        \n",
    "    def forward(self, x):\n",
    "        for layer in self.Module_List:\n",
    "            x = layer(x)\n",
    "        return x"
   ],
   "id": "fc42b6e6b55e152e",
   "outputs": [],
   "execution_count": 38
  },
  {
   "metadata": {
    "ExecuteTime": {
     "end_time": "2024-08-08T10:42:46.598028Z",
     "start_time": "2024-08-08T10:42:46.594884Z"
    }
   },
   "cell_type": "code",
   "source": [
    "model = TestNet()\n",
    "x = torch.randn(2,3)\n",
    "print(model(x))\n",
    "print(model) # 그냥 리스트로 하면 등록이 안돼있다!\n",
    "\n",
    "optimizer = optim.Adam(model.parameters(), lr=0.001) # 등록이 안되어있으면 parameter를 못 찾는다!"
   ],
   "id": "415c37fc05726961",
   "outputs": [],
   "execution_count": 39
  },
  {
   "metadata": {},
   "cell_type": "code",
   "outputs": [],
   "execution_count": null,
   "source": [
    "# 그럼 nn.Sequential 쓰고 말지 왜 굳이 nn.ModuleList?\n",
    "class small_block(nn.Module):\n",
    "    def __init__(self):\n",
    "        super().__init__()\n",
    "        self.block_x = nn.Linear(1,1)\n",
    "        self.block_y = nn.Linear(1,1)\n",
    "        \n",
    "    def forward(self, x, y):\n",
    "        x = self.block_x(x)\n",
    "        y = self.block_y(y)\n",
    "        return x, y\n",
    "\n",
    "block = small_block()\n",
    "print(block)\n",
    "model = nn.Sequential(block, block)\n",
    "print(model)\n",
    "# model(torch.randn(1,1), torch.randn(1,1)) # error!\n",
    "# nn.Sequential 이 가지고 있는 forward 함수를 call 하기 때문에 입력을 두 개 넣으면 안된다!!\n",
    "\n",
    "model = nn.ModuleList([block, block])\n",
    "x = torch.randn(1)\n",
    "y = torch.randn(1)\n",
    "for block in model:\n",
    "    x,y = block(x,y)\n",
    "print(x,y)"
   ],
   "id": "8316b0adf4b2b0c1"
  }
 ],
 "metadata": {
  "kernelspec": {
   "display_name": "Python 3",
   "language": "python",
   "name": "python3"
  },
  "language_info": {
   "codemirror_mode": {
    "name": "ipython",
    "version": 2
   },
   "file_extension": ".py",
   "mimetype": "text/x-python",
   "name": "python",
   "nbconvert_exporter": "python",
   "pygments_lexer": "ipython2",
   "version": "2.7.6"
  }
 },
 "nbformat": 4,
 "nbformat_minor": 5
}
