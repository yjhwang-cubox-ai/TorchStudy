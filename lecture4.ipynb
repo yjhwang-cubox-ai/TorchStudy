{
 "cells": [
  {
   "metadata": {
    "ExecuteTime": {
     "end_time": "2024-08-08T00:25:05.926210Z",
     "start_time": "2024-08-08T00:25:02.380449Z"
    }
   },
   "cell_type": "code",
   "source": [
    "import torch\n",
    "from torch import nn"
   ],
   "id": "69e532f59fdbef1e",
   "outputs": [],
   "execution_count": 1
  },
  {
   "metadata": {
    "ExecuteTime": {
     "end_time": "2024-08-08T00:25:05.930698Z",
     "start_time": "2024-08-08T00:25:05.927604Z"
    }
   },
   "cell_type": "code",
   "source": [
    "class sample_model(nn.Module):\n",
    "    def __init__(self):\n",
    "        super().__init__()\n",
    "        self.drop_layer = nn.Sequential(nn.Linear(5, 7), \n",
    "                                        nn.Dropout(p=0.3))\n",
    "        \n",
    "    def forward(self, x):\n",
    "        x = self.drop_layer(x)\n",
    "        return x"
   ],
   "id": "d1d48f8fb6a785bd",
   "outputs": [],
   "execution_count": 2
  },
  {
   "metadata": {
    "ExecuteTime": {
     "end_time": "2024-08-08T00:25:05.962960Z",
     "start_time": "2024-08-08T00:25:05.931359Z"
    }
   },
   "cell_type": "code",
   "source": [
    "model = sample_model()\n",
    "model.train()\n",
    "x = torch.randn(3, 5)\n",
    "print(model(x))\n",
    "\n",
    "model.eval()\n",
    "print(model(x))"
   ],
   "id": "19856f79a24d0a42",
   "outputs": [
    {
     "name": "stdout",
     "output_type": "stream",
     "text": [
      "tensor([[-0.0000, -0.6300, -0.0000, -0.6758,  0.3496,  0.9622, -0.3471],\n",
      "        [ 1.3296, -0.1898,  1.0348, -0.0000, -0.3343,  0.8229, -0.0000],\n",
      "        [-0.5153, -0.4820, -0.3617, -1.0769,  0.1658,  0.6347,  0.3536]],\n",
      "       grad_fn=<MulBackward0>)\n",
      "tensor([[-0.8084, -0.4410, -1.0796, -0.4730,  0.2447,  0.6736, -0.2430],\n",
      "        [ 0.9307, -0.1329,  0.7243, -0.8194, -0.2340,  0.5760, -0.0822],\n",
      "        [-0.3607, -0.3374, -0.2532, -0.7539,  0.1161,  0.4443,  0.2475]],\n",
      "       grad_fn=<AddmmBackward0>)\n"
     ]
    }
   ],
   "execution_count": 3
  },
  {
   "metadata": {
    "ExecuteTime": {
     "end_time": "2024-08-08T00:25:05.970108Z",
     "start_time": "2024-08-08T00:25:05.963989Z"
    }
   },
   "cell_type": "code",
   "source": [
    "layer = nn.Conv2d(in_channels=1, out_channels=3, kernel_size=3)\n",
    "\n",
    "layer(torch.randn(5, 1, 3, 3)).shape"
   ],
   "id": "d8439f90c4583b63",
   "outputs": [
    {
     "data": {
      "text/plain": [
       "torch.Size([5, 3, 1, 1])"
      ]
     },
     "execution_count": 4,
     "metadata": {},
     "output_type": "execute_result"
    }
   ],
   "execution_count": 4
  },
  {
   "metadata": {
    "ExecuteTime": {
     "end_time": "2024-08-08T00:25:05.973314Z",
     "start_time": "2024-08-08T00:25:05.970724Z"
    }
   },
   "cell_type": "code",
   "source": "layer.weight.shape",
   "id": "1dac80be14cd44b3",
   "outputs": [
    {
     "data": {
      "text/plain": [
       "torch.Size([3, 1, 3, 3])"
      ]
     },
     "execution_count": 5,
     "metadata": {},
     "output_type": "execute_result"
    }
   ],
   "execution_count": 5
  },
  {
   "metadata": {
    "ExecuteTime": {
     "end_time": "2024-08-08T00:25:06.091418Z",
     "start_time": "2024-08-08T00:25:05.973920Z"
    }
   },
   "cell_type": "code",
   "source": [
    "conv1 = nn.Conv2d(1,8,3,stride=2)\n",
    "x = torch.randn(1,10,10)\n",
    "print(layer(x).shape)\n",
    "\n",
    "conv2 = nn.Conv2d(8,16,3,padding=1)\n",
    "print(conv2(conv1(x)).shape)\n",
    "\n",
    "Maxpool = nn.MaxPool2d(kernel_size=2, stride=2)\n",
    "print(Maxpool(conv2(conv1(x))).shape)"
   ],
   "id": "abc95781ba22744a",
   "outputs": [
    {
     "name": "stdout",
     "output_type": "stream",
     "text": [
      "torch.Size([3, 8, 8])\n",
      "torch.Size([16, 4, 4])\n",
      "torch.Size([16, 2, 2])\n"
     ]
    }
   ],
   "execution_count": 6
  },
  {
   "metadata": {
    "ExecuteTime": {
     "end_time": "2024-08-08T00:25:06.190469Z",
     "start_time": "2024-08-08T00:25:06.092084Z"
    }
   },
   "cell_type": "code",
   "source": [
    "class CNN(nn.Module):\n",
    "    def __init__(self):\n",
    "        super().__init__()\n",
    "        \n",
    "        self.conv1 = nn.Conv2d(1,8,6,stride=2)\n",
    "        self.conv2 = nn.Conv2d(8,16,3,padding=1)\n",
    "        self.Maxpool2 = nn.MaxPool2d(kernel_size=2)\n",
    "        # self.fc = nn.Linear(?,10)\n",
    "    \n",
    "    def forward(self, x):\n",
    "        x = self.conv1(x)\n",
    "        x = self.conv2(x)\n",
    "        x = self.Maxpool2(x)\n",
    "        # x = torch.flatten(x, start_dim=1)\n",
    "        return x\n",
    "\n",
    "x = torch.randn(32, 1, 28, 28)\n",
    "model = CNN()\n",
    "\n",
    "print(model(x).shape)"
   ],
   "id": "1156263adc0ff91e",
   "outputs": [
    {
     "name": "stdout",
     "output_type": "stream",
     "text": [
      "torch.Size([32, 16, 6, 6])\n"
     ]
    }
   ],
   "execution_count": 7
  },
  {
   "metadata": {},
   "cell_type": "code",
   "source": "",
   "id": "336980a8c0ba1ef",
   "outputs": [],
   "execution_count": null
  },
  {
   "metadata": {},
   "cell_type": "code",
   "source": "",
   "id": "315bfcfdb6062fe1",
   "outputs": [],
   "execution_count": null
  },
  {
   "metadata": {},
   "cell_type": "code",
   "source": "",
   "id": "e36a572946079592",
   "outputs": [],
   "execution_count": null
  }
 ],
 "metadata": {
  "kernelspec": {
   "display_name": "Python 3",
   "language": "python",
   "name": "python3"
  },
  "language_info": {
   "codemirror_mode": {
    "name": "ipython",
    "version": 2
   },
   "file_extension": ".py",
   "mimetype": "text/x-python",
   "name": "python",
   "nbconvert_exporter": "python",
   "pygments_lexer": "ipython2",
   "version": "2.7.6"
  }
 },
 "nbformat": 4,
 "nbformat_minor": 5
}
