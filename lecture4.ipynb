{
 "cells": [
  {
   "metadata": {
    "ExecuteTime": {
     "end_time": "2024-08-08T02:08:50.164392Z",
     "start_time": "2024-08-08T02:08:50.161829Z"
    }
   },
   "cell_type": "code",
   "source": [
    "import torch\n",
    "from torch import nn"
   ],
   "id": "69e532f59fdbef1e",
   "outputs": [],
   "execution_count": 8
  },
  {
   "metadata": {
    "ExecuteTime": {
     "end_time": "2024-08-08T02:08:50.372949Z",
     "start_time": "2024-08-08T02:08:50.370304Z"
    }
   },
   "cell_type": "code",
   "source": [
    "class sample_model(nn.Module):\n",
    "    def __init__(self):\n",
    "        super().__init__()\n",
    "        self.drop_layer = nn.Sequential(nn.Linear(5, 7), \n",
    "                                        nn.Dropout(p=0.3))\n",
    "        \n",
    "    def forward(self, x):\n",
    "        x = self.drop_layer(x)\n",
    "        return x"
   ],
   "id": "d1d48f8fb6a785bd",
   "outputs": [],
   "execution_count": 9
  },
  {
   "metadata": {
    "ExecuteTime": {
     "end_time": "2024-08-08T02:08:50.511872Z",
     "start_time": "2024-08-08T02:08:50.506556Z"
    }
   },
   "cell_type": "code",
   "source": [
    "model = sample_model()\n",
    "model.train()\n",
    "x = torch.randn(3, 5)\n",
    "print(model(x))\n",
    "\n",
    "model.eval()\n",
    "print(model(x))"
   ],
   "id": "19856f79a24d0a42",
   "outputs": [
    {
     "name": "stdout",
     "output_type": "stream",
     "text": [
      "tensor([[-0.7543, -0.9728, -0.0000, -0.0000,  0.3513,  0.2354,  0.8639],\n",
      "        [ 1.1552,  1.5411,  0.9075,  0.4792, -1.4580, -0.7808, -0.0000],\n",
      "        [ 0.0000, -1.4324, -0.5901, -0.4363, -0.0112,  0.0000,  0.5363]],\n",
      "       grad_fn=<MulBackward0>)\n",
      "tensor([[-0.5280, -0.6810, -0.7915, -0.5353,  0.2459,  0.1647,  0.6047],\n",
      "        [ 0.8087,  1.0788,  0.6352,  0.3355, -1.0206, -0.5465, -0.2860],\n",
      "        [ 0.0400, -1.0027, -0.4131, -0.3054, -0.0079,  0.2591,  0.3754]],\n",
      "       grad_fn=<AddmmBackward0>)\n"
     ]
    }
   ],
   "execution_count": 10
  },
  {
   "metadata": {
    "ExecuteTime": {
     "end_time": "2024-08-08T02:08:50.665560Z",
     "start_time": "2024-08-08T02:08:50.662213Z"
    }
   },
   "cell_type": "code",
   "source": [
    "layer = nn.Conv2d(in_channels=1, out_channels=3, kernel_size=3)\n",
    "\n",
    "layer(torch.randn(5, 1, 3, 3)).shape"
   ],
   "id": "d8439f90c4583b63",
   "outputs": [
    {
     "data": {
      "text/plain": [
       "torch.Size([5, 3, 1, 1])"
      ]
     },
     "execution_count": 11,
     "metadata": {},
     "output_type": "execute_result"
    }
   ],
   "execution_count": 11
  },
  {
   "metadata": {
    "ExecuteTime": {
     "end_time": "2024-08-08T02:08:50.825098Z",
     "start_time": "2024-08-08T02:08:50.822373Z"
    }
   },
   "cell_type": "code",
   "source": "layer.weight.shape",
   "id": "1dac80be14cd44b3",
   "outputs": [
    {
     "data": {
      "text/plain": [
       "torch.Size([3, 1, 3, 3])"
      ]
     },
     "execution_count": 12,
     "metadata": {},
     "output_type": "execute_result"
    }
   ],
   "execution_count": 12
  },
  {
   "metadata": {
    "ExecuteTime": {
     "end_time": "2024-08-08T02:08:51.143018Z",
     "start_time": "2024-08-08T02:08:51.040447Z"
    }
   },
   "cell_type": "code",
   "source": [
    "conv1 = nn.Conv2d(1,8,3,stride=2)\n",
    "x = torch.randn(1,10,10)\n",
    "print(layer(x).shape)\n",
    "\n",
    "conv2 = nn.Conv2d(8,16,3,padding=1)\n",
    "print(conv2(conv1(x)).shape)\n",
    "\n",
    "Maxpool = nn.MaxPool2d(kernel_size=2, stride=2)\n",
    "print(Maxpool(conv2(conv1(x))).shape)"
   ],
   "id": "abc95781ba22744a",
   "outputs": [
    {
     "name": "stdout",
     "output_type": "stream",
     "text": [
      "torch.Size([3, 8, 8])\n",
      "torch.Size([16, 4, 4])\n",
      "torch.Size([16, 2, 2])\n"
     ]
    }
   ],
   "execution_count": 13
  },
  {
   "metadata": {
    "ExecuteTime": {
     "end_time": "2024-08-08T02:08:51.331298Z",
     "start_time": "2024-08-08T02:08:51.227940Z"
    }
   },
   "cell_type": "code",
   "source": [
    "class CNN(nn.Module):\n",
    "    def __init__(self):\n",
    "        super().__init__()\n",
    "        \n",
    "        self.conv1 = nn.Conv2d(1,8,6,stride=2)\n",
    "        self.conv2 = nn.Conv2d(8,16,3,padding=1)\n",
    "        self.Maxpool2 = nn.MaxPool2d(kernel_size=2)\n",
    "        # self.fc = nn.Linear(?,10)\n",
    "    \n",
    "    def forward(self, x):\n",
    "        x = self.conv1(x)\n",
    "        x = self.conv2(x)\n",
    "        x = self.Maxpool2(x)\n",
    "        # x = torch.flatten(x, start_dim=1)\n",
    "        return x\n",
    "\n",
    "x = torch.randn(32, 1, 28, 28)\n",
    "model = CNN()\n",
    "\n",
    "print(model(x).shape)"
   ],
   "id": "1156263adc0ff91e",
   "outputs": [
    {
     "name": "stdout",
     "output_type": "stream",
     "text": [
      "torch.Size([32, 16, 6, 6])\n"
     ]
    }
   ],
   "execution_count": 14
  },
  {
   "metadata": {},
   "cell_type": "code",
   "source": "",
   "id": "336980a8c0ba1ef",
   "outputs": [],
   "execution_count": null
  },
  {
   "metadata": {},
   "cell_type": "code",
   "source": "",
   "id": "315bfcfdb6062fe1",
   "outputs": [],
   "execution_count": null
  },
  {
   "metadata": {},
   "cell_type": "code",
   "source": "",
   "id": "e36a572946079592",
   "outputs": [],
   "execution_count": null
  }
 ],
 "metadata": {
  "kernelspec": {
   "display_name": "Python 3",
   "language": "python",
   "name": "python3"
  },
  "language_info": {
   "codemirror_mode": {
    "name": "ipython",
    "version": 2
   },
   "file_extension": ".py",
   "mimetype": "text/x-python",
   "name": "python",
   "nbconvert_exporter": "python",
   "pygments_lexer": "ipython2",
   "version": "2.7.6"
  }
 },
 "nbformat": 4,
 "nbformat_minor": 5
}
